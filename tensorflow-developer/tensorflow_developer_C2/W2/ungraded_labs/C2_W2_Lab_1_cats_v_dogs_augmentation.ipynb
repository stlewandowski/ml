{
 "cells": [
  {
   "cell_type": "markdown",
   "metadata": {
    "pycharm": {
     "name": "#%% md\n"
    }
   },
   "source": [
    "<a href=\"https://colab.research.google.com/github/https-deeplearning-ai/tensorflow-1-public/blob/master/C2/W2/ungraded_labs/C2_W2_Lab_1_cats_v_dogs_augmentation.ipynb\" target=\"_parent\"><img src=\"https://colab.research.google.com/assets/colab-badge.svg\" alt=\"Open In Colab\"/></a>"
   ]
  },
  {
   "cell_type": "markdown",
   "metadata": {
    "id": "gGxCD4mGHHjG",
    "pycharm": {
     "name": "#%% md\n"
    }
   },
   "source": [
    "# Ungraded Lab: Data Augmentation\n",
    "\n",
    "In the previous lessons, you saw that having a high training accuracy does not automatically mean having a good predictive model. It can still perform poorly on new data because it has overfit to the training set. In this lab, you will see how to avoid that using _data augmentation_. This increases the amount of training data by modifying the existing training data's properties. For example, in image data, you can apply different preprocessing techniques such as rotate, flip, shear, or zoom on your existing images so you can simulate other data that the model should also learn from. This way, the model would see more variety in the images during training so it will infer better on new, previously unseen data.\n",
    "\n",
    "Let's see how you can do this in the following sections."
   ]
  },
  {
   "cell_type": "markdown",
   "metadata": {
    "id": "kJJqX4DxcQs8",
    "pycharm": {
     "name": "#%% md\n"
    }
   },
   "source": [
    "## Baseline Performance\n",
    "\n",
    "You will start with a model that's very effective at learning `Cats vs Dogs` without data augmentation. It's similar to the previous models that you have used. Note that there are four convolutional layers with 32, 64, 128 and 128 convolutions respectively. The code is basically the same from the previous lab so we won't go over the details step by step since you've already seen it before.\n",
    "\n",
    "You will train only for 20 epochs to save time but feel free to increase this if you want."
   ]
  },
  {
   "cell_type": "code",
   "execution_count": null,
   "metadata": {
    "id": "zJZIF29-dIRv",
    "pycharm": {
     "name": "#%%\n"
    }
   },
   "outputs": [],
   "source": [
    "# Download the dataset\n",
    "!wget https://storage.googleapis.com/tensorflow-1-public/course2/cats_and_dogs_filtered.zip"
   ]
  },
  {
   "cell_type": "code",
   "execution_count": 2,
   "metadata": {
    "id": "_DyUfCTgdwa8",
    "pycharm": {
     "name": "#%%\n"
    }
   },
   "outputs": [],
   "source": [
    "import os\n",
    "import zipfile\n",
    "\n",
    "# Extract the archive\n",
    "zip_ref = zipfile.ZipFile(\"./cats_and_dogs_filtered.zip\", 'r')\n",
    "zip_ref.extractall(\".\")\n",
    "zip_ref.close()\n",
    "\n",
    "# Assign training and validation set directories\n",
    "base_dir = './cats_and_dogs_filtered'\n",
    "train_dir = os.path.join(base_dir, 'train')\n",
    "validation_dir = os.path.join(base_dir, 'validation')\n",
    "\n",
    "# Directory with training cat pictures\n",
    "train_cats_dir = os.path.join(train_dir, 'cats')\n",
    "\n",
    "# Directory with training dog pictures\n",
    "train_dogs_dir = os.path.join(train_dir, 'dogs')\n",
    "\n",
    "# Directory with validation cat pictures\n",
    "validation_cats_dir = os.path.join(validation_dir, 'cats')\n",
    "\n",
    "# Directory with validation dog pictures\n",
    "validation_dogs_dir = os.path.join(validation_dir, 'dogs')"
   ]
  },
  {
   "cell_type": "markdown",
   "metadata": {
    "id": "Ub_BdOJIfZ_Q",
    "pycharm": {
     "name": "#%% md\n"
    }
   },
   "source": [
    "You will place the model creation inside a function so you can easily initialize a new one when you use data augmentation later in this notebook."
   ]
  },
  {
   "cell_type": "code",
   "execution_count": 3,
   "metadata": {
    "id": "uWllK_Wad-Mx",
    "pycharm": {
     "name": "#%%\n"
    }
   },
   "outputs": [],
   "source": [
    "import tensorflow as tf\n",
    "from tensorflow.keras.optimizers import RMSprop\n",
    "\n",
    "def create_model():\n",
    "  '''Creates a CNN with 4 convolutional layers'''\n",
    "  model = tf.keras.models.Sequential([\n",
    "      tf.keras.layers.Conv2D(32, (3,3), activation='relu', input_shape=(150, 150, 3)),\n",
    "      tf.keras.layers.MaxPooling2D(2, 2),\n",
    "      tf.keras.layers.Conv2D(64, (3,3), activation='relu'),\n",
    "      tf.keras.layers.MaxPooling2D(2,2),\n",
    "      tf.keras.layers.Conv2D(128, (3,3), activation='relu'),\n",
    "      tf.keras.layers.MaxPooling2D(2,2),\n",
    "      tf.keras.layers.Conv2D(128, (3,3), activation='relu'),\n",
    "      tf.keras.layers.MaxPooling2D(2,2),\n",
    "      tf.keras.layers.Flatten(),\n",
    "      tf.keras.layers.Dense(512, activation='relu'),\n",
    "      tf.keras.layers.Dense(1, activation='sigmoid')\n",
    "  ])\n",
    "\n",
    "  model.compile(loss='binary_crossentropy',\n",
    "                optimizer=RMSprop(learning_rate=1e-4),\n",
    "                metrics=['accuracy'])\n",
    "  \n",
    "  return model"
   ]
  },
  {
   "cell_type": "code",
   "execution_count": 4,
   "metadata": {
    "id": "MJPyDEzOqrKB",
    "pycharm": {
     "name": "#%%\n"
    }
   },
   "outputs": [
    {
     "name": "stdout",
     "output_type": "stream",
     "text": [
      "Found 2000 images belonging to 2 classes.\n",
      "Found 1000 images belonging to 2 classes.\n"
     ]
    }
   ],
   "source": [
    "from tensorflow.keras.preprocessing.image import ImageDataGenerator\n",
    "\n",
    "# All images will be rescaled by 1./255\n",
    "train_datagen = ImageDataGenerator(rescale=1./255)\n",
    "test_datagen = ImageDataGenerator(rescale=1./255)\n",
    "\n",
    "# Flow training images in batches of 20 using train_datagen generator\n",
    "train_generator = train_datagen.flow_from_directory(\n",
    "        train_dir,  # This is the source directory for training images\n",
    "        target_size=(150, 150),  # All images will be resized to 150x150\n",
    "        batch_size=20,\n",
    "        # Since we use binary_crossentropy loss, we need binary labels\n",
    "        class_mode='binary')\n",
    "\n",
    "# Flow validation images in batches of 20 using test_datagen generator\n",
    "validation_generator = test_datagen.flow_from_directory(\n",
    "        validation_dir,\n",
    "        target_size=(150, 150),\n",
    "        batch_size=20,\n",
    "        class_mode='binary')"
   ]
  },
  {
   "cell_type": "code",
   "execution_count": 5,
   "metadata": {
    "id": "hdqUoF44esR3",
    "pycharm": {
     "name": "#%%\n"
    }
   },
   "outputs": [
    {
     "name": "stdout",
     "output_type": "stream",
     "text": [
      "Epoch 1/20\n",
      "100/100 - 28s - loss: 0.6823 - accuracy: 0.5390 - val_loss: 0.6571 - val_accuracy: 0.6190 - 28s/epoch - 279ms/step\n",
      "Epoch 2/20\n",
      "100/100 - 4s - loss: 0.6412 - accuracy: 0.6255 - val_loss: 0.6205 - val_accuracy: 0.6450 - 4s/epoch - 41ms/step\n",
      "Epoch 3/20\n",
      "100/100 - 4s - loss: 0.5929 - accuracy: 0.6750 - val_loss: 0.5905 - val_accuracy: 0.6740 - 4s/epoch - 40ms/step\n",
      "Epoch 4/20\n",
      "100/100 - 4s - loss: 0.5547 - accuracy: 0.7150 - val_loss: 0.6008 - val_accuracy: 0.6720 - 4s/epoch - 40ms/step\n",
      "Epoch 5/20\n",
      "100/100 - 4s - loss: 0.5362 - accuracy: 0.7305 - val_loss: 0.5625 - val_accuracy: 0.7080 - 4s/epoch - 44ms/step\n",
      "Epoch 6/20\n",
      "100/100 - 4s - loss: 0.5069 - accuracy: 0.7480 - val_loss: 0.5624 - val_accuracy: 0.7110 - 4s/epoch - 43ms/step\n",
      "Epoch 7/20\n",
      "100/100 - 4s - loss: 0.4733 - accuracy: 0.7670 - val_loss: 0.5572 - val_accuracy: 0.7030 - 4s/epoch - 39ms/step\n",
      "Epoch 8/20\n",
      "100/100 - 4s - loss: 0.4578 - accuracy: 0.7825 - val_loss: 0.5548 - val_accuracy: 0.7200 - 4s/epoch - 40ms/step\n",
      "Epoch 9/20\n",
      "100/100 - 4s - loss: 0.4272 - accuracy: 0.8030 - val_loss: 0.5263 - val_accuracy: 0.7410 - 4s/epoch - 40ms/step\n",
      "Epoch 10/20\n",
      "100/100 - 4s - loss: 0.4022 - accuracy: 0.8145 - val_loss: 0.5377 - val_accuracy: 0.7280 - 4s/epoch - 40ms/step\n",
      "Epoch 11/20\n",
      "100/100 - 4s - loss: 0.3722 - accuracy: 0.8400 - val_loss: 0.5216 - val_accuracy: 0.7420 - 4s/epoch - 40ms/step\n",
      "Epoch 12/20\n",
      "100/100 - 4s - loss: 0.3556 - accuracy: 0.8555 - val_loss: 0.5292 - val_accuracy: 0.7450 - 4s/epoch - 39ms/step\n",
      "Epoch 13/20\n",
      "100/100 - 4s - loss: 0.3336 - accuracy: 0.8605 - val_loss: 0.5772 - val_accuracy: 0.7270 - 4s/epoch - 39ms/step\n",
      "Epoch 14/20\n",
      "100/100 - 4s - loss: 0.3085 - accuracy: 0.8730 - val_loss: 0.5720 - val_accuracy: 0.7270 - 4s/epoch - 40ms/step\n",
      "Epoch 15/20\n",
      "100/100 - 4s - loss: 0.2869 - accuracy: 0.8850 - val_loss: 0.5756 - val_accuracy: 0.7240 - 4s/epoch - 40ms/step\n",
      "Epoch 16/20\n",
      "100/100 - 4s - loss: 0.2594 - accuracy: 0.8945 - val_loss: 0.5744 - val_accuracy: 0.7560 - 4s/epoch - 39ms/step\n",
      "Epoch 17/20\n",
      "100/100 - 4s - loss: 0.2508 - accuracy: 0.9025 - val_loss: 0.6404 - val_accuracy: 0.7220 - 4s/epoch - 39ms/step\n",
      "Epoch 18/20\n",
      "100/100 - 4s - loss: 0.2265 - accuracy: 0.9180 - val_loss: 0.6114 - val_accuracy: 0.7360 - 4s/epoch - 42ms/step\n",
      "Epoch 19/20\n",
      "100/100 - 4s - loss: 0.2065 - accuracy: 0.9220 - val_loss: 0.5747 - val_accuracy: 0.7570 - 4s/epoch - 45ms/step\n",
      "Epoch 20/20\n",
      "100/100 - 5s - loss: 0.1923 - accuracy: 0.9320 - val_loss: 0.5952 - val_accuracy: 0.7520 - 5s/epoch - 53ms/step\n"
     ]
    }
   ],
   "source": [
    "# Constant for epochs\n",
    "EPOCHS = 20\n",
    "\n",
    "# Create a new model\n",
    "model = create_model()\n",
    "\n",
    "# Train the model\n",
    "history = model.fit(\n",
    "      train_generator,\n",
    "      steps_per_epoch=100,  # 2000 images = batch_size * steps\n",
    "      epochs=EPOCHS,\n",
    "      validation_data=validation_generator,\n",
    "      validation_steps=50,  # 1000 images = batch_size * steps\n",
    "      verbose=2)"
   ]
  },
  {
   "cell_type": "markdown",
   "metadata": {
    "id": "Y-G0Am4cguNt",
    "pycharm": {
     "name": "#%% md\n"
    }
   },
   "source": [
    "You will then visualize the loss and accuracy with respect to the training and validation set. You will again use a convenience function so it can be reused later. This function accepts a [History](https://www.tensorflow.org/api_docs/python/tf/keras/callbacks/History) object which contains the results of the `fit()` method you ran above."
   ]
  },
  {
   "cell_type": "code",
   "execution_count": 8,
   "metadata": {
    "id": "GZWPcmKWO303",
    "pycharm": {
     "name": "#%%\n"
    }
   },
   "outputs": [],
   "source": [
    "import matplotlib.pyplot as plt\n",
    "\n",
    "def plot_loss_acc(history):\n",
    "  '''Plots the training and validation loss and accuracy from a history object'''\n",
    "  acc = history.history['accuracy']\n",
    "  val_acc = history.history['val_accuracy']\n",
    "  loss = history.history['loss']\n",
    "  val_loss = history.history['val_loss']\n",
    "\n",
    "  epochs = range(len(acc))\n",
    "\n",
    "  plt.plot(epochs, acc, 'bo', label='Training accuracy')\n",
    "  plt.plot(epochs, val_acc, 'b', label='Validation accuracy')\n",
    "  plt.title('Training and validation accuracy')\n",
    "  plt.legend()\n",
    "  plt.figure()\n",
    "\n",
    "  plt.plot(epochs, loss, 'bo', label='Training Loss')\n",
    "  plt.plot(epochs, val_loss, 'b', label='Validation Loss')\n",
    "  plt.title('Training and validation loss')\n",
    "  plt.legend()\n",
    "\n",
    "  plt.show()"
   ]
  },
  {
   "cell_type": "code",
   "execution_count": 9,
   "metadata": {
    "id": "Vojz4NYXiT_f",
    "pycharm": {
     "name": "#%%\n"
    }
   },
   "outputs": [
    {
     "data": {
      "text/plain": "<Figure size 432x288 with 1 Axes>",
      "image/png": "[encoded data removed]"
     },
     "metadata": {
      "needs_background": "light"
     },
     "output_type": "display_data"
    },
    {
     "data": {
      "text/plain": "<Figure size 432x288 with 1 Axes>",
      "image/png": "[encoded data removed]"
     },
     "metadata": {
      "needs_background": "light"
     },
     "output_type": "display_data"
    }
   ],
   "source": [
    "# Plot training results\n",
    "plot_loss_acc(history)"
   ]
  },
  {
   "cell_type": "markdown",
   "metadata": {
    "id": "zb81GvNov-Tg",
    "pycharm": {
     "name": "#%% md\n"
    }
   },
   "source": [
    "From the results above, you'll see the training accuracy is more than 90%, and the validation accuracy is in the 70%-80% range. This is a great example of _overfitting_ -- which in short means that it can do very well with images it has seen before, but not so well with images it hasn't.\n"
   ]
  },
  {
   "cell_type": "markdown",
   "metadata": {
    "id": "5KBz-vFbjLZX",
    "pycharm": {
     "name": "#%% md\n"
    }
   },
   "source": [
    "## Data augmentation\n",
    "\n",
    "One simple method to avoid overfitting is to augment the images a bit. If you think about it, most pictures of a cat are very similar -- the ears are at the top, then the eyes, then the mouth etc. Things like the distance between the eyes and ears will always be quite similar too. \n",
    "\n",
    "What if you tweak with the images a bit -- rotate the image, squash it, etc.  That's what image augementation is all about. And there's an API that makes it easy!\n",
    "\n",
    "Take a look at the [ImageDataGenerator](https://www.tensorflow.org/api_docs/python/tf/keras/preprocessing/image/ImageDataGenerator) which you have been using to rescale the image. There are other properties on it that you can use to augment the image. \n",
    "\n",
    "```\n",
    "# Updated to do image augmentation\n",
    "train_datagen = ImageDataGenerator(\n",
    "      rotation_range=40,\n",
    "      width_shift_range=0.2,\n",
    "      height_shift_range=0.2,\n",
    "      shear_range=0.2,\n",
    "      zoom_range=0.2,\n",
    "      horizontal_flip=True,\n",
    "      fill_mode='nearest')\n",
    "```\n",
    "\n",
    "These are just a few of the options available. Let's quickly go over it:\n",
    "\n",
    "* `rotation_range` is a value in degrees (0–180) within which to randomly rotate pictures.\n",
    "* `width_shift` and `height_shift` are ranges (as a fraction of total width or height) within which to randomly translate pictures vertically or horizontally.\n",
    "* `shear_range` is for randomly applying shearing transformations.\n",
    "* `zoom_range` is for randomly zooming inside pictures.\n",
    "* `horizontal_flip` is for randomly flipping half of the images horizontally. This is relevant when there are no assumptions of horizontal assymmetry (e.g. real-world pictures).\n",
    "* `fill_mode` is the strategy used for filling in newly created pixels, which can appear after a rotation or a width/height shift.\n",
    "\n",
    "\n",
    "Run the next cells to see the impact on the results. The code is similar to the baseline but the definition of `train_datagen` has been updated to use the parameters described above.\n"
   ]
  },
  {
   "cell_type": "code",
   "execution_count": 14,
   "metadata": {
    "id": "UK7_Fflgv8YC",
    "pycharm": {
     "name": "#%%\n"
    }
   },
   "outputs": [
    {
     "name": "stdout",
     "output_type": "stream",
     "text": [
      "Found 2000 images belonging to 2 classes.\n",
      "Found 1000 images belonging to 2 classes.\n",
      "Epoch 1/40\n",
      "100/100 - 14s - loss: 0.6953 - accuracy: 0.5230 - val_loss: 0.6864 - val_accuracy: 0.5000 - 14s/epoch - 140ms/step\n",
      "Epoch 2/40\n",
      "100/100 - 13s - loss: 0.6838 - accuracy: 0.5630 - val_loss: 0.6563 - val_accuracy: 0.6260 - 13s/epoch - 128ms/step\n",
      "Epoch 3/40\n",
      "100/100 - 13s - loss: 0.6725 - accuracy: 0.5960 - val_loss: 0.6453 - val_accuracy: 0.6130 - 13s/epoch - 127ms/step\n",
      "Epoch 4/40\n",
      "100/100 - 12s - loss: 0.6622 - accuracy: 0.5950 - val_loss: 0.6511 - val_accuracy: 0.6030 - 12s/epoch - 124ms/step\n",
      "Epoch 5/40\n",
      "100/100 - 13s - loss: 0.6470 - accuracy: 0.5980 - val_loss: 0.6227 - val_accuracy: 0.6310 - 13s/epoch - 127ms/step\n",
      "Epoch 6/40\n",
      "100/100 - 13s - loss: 0.6271 - accuracy: 0.6470 - val_loss: 0.5937 - val_accuracy: 0.6750 - 13s/epoch - 127ms/step\n",
      "Epoch 7/40\n",
      "100/100 - 13s - loss: 0.6189 - accuracy: 0.6550 - val_loss: 0.5832 - val_accuracy: 0.6790 - 13s/epoch - 126ms/step\n",
      "Epoch 8/40\n",
      "100/100 - 13s - loss: 0.6069 - accuracy: 0.6695 - val_loss: 0.5626 - val_accuracy: 0.7100 - 13s/epoch - 129ms/step\n",
      "Epoch 9/40\n",
      "100/100 - 13s - loss: 0.5946 - accuracy: 0.6820 - val_loss: 0.6551 - val_accuracy: 0.6120 - 13s/epoch - 130ms/step\n",
      "Epoch 10/40\n",
      "100/100 - 13s - loss: 0.5847 - accuracy: 0.6970 - val_loss: 0.5432 - val_accuracy: 0.7240 - 13s/epoch - 130ms/step\n",
      "Epoch 11/40\n",
      "100/100 - 12s - loss: 0.5817 - accuracy: 0.6895 - val_loss: 0.5511 - val_accuracy: 0.7100 - 12s/epoch - 125ms/step\n",
      "Epoch 12/40\n",
      "100/100 - 13s - loss: 0.5844 - accuracy: 0.6995 - val_loss: 0.5875 - val_accuracy: 0.6800 - 13s/epoch - 128ms/step\n",
      "Epoch 13/40\n",
      "100/100 - 13s - loss: 0.5745 - accuracy: 0.7020 - val_loss: 0.5383 - val_accuracy: 0.7230 - 13s/epoch - 125ms/step\n",
      "Epoch 14/40\n",
      "100/100 - 13s - loss: 0.5741 - accuracy: 0.6880 - val_loss: 0.5352 - val_accuracy: 0.7260 - 13s/epoch - 127ms/step\n",
      "Epoch 15/40\n",
      "100/100 - 12s - loss: 0.5651 - accuracy: 0.7120 - val_loss: 0.5722 - val_accuracy: 0.6980 - 12s/epoch - 123ms/step\n",
      "Epoch 16/40\n",
      "100/100 - 12s - loss: 0.5669 - accuracy: 0.7070 - val_loss: 0.5236 - val_accuracy: 0.7110 - 12s/epoch - 123ms/step\n",
      "Epoch 17/40\n",
      "100/100 - 12s - loss: 0.5601 - accuracy: 0.7185 - val_loss: 0.5014 - val_accuracy: 0.7570 - 12s/epoch - 121ms/step\n",
      "Epoch 18/40\n",
      "100/100 - 12s - loss: 0.5424 - accuracy: 0.7195 - val_loss: 0.5203 - val_accuracy: 0.7320 - 12s/epoch - 123ms/step\n",
      "Epoch 19/40\n",
      "100/100 - 12s - loss: 0.5489 - accuracy: 0.7230 - val_loss: 0.5120 - val_accuracy: 0.7420 - 12s/epoch - 124ms/step\n",
      "Epoch 20/40\n",
      "100/100 - 12s - loss: 0.5462 - accuracy: 0.7305 - val_loss: 0.4944 - val_accuracy: 0.7480 - 12s/epoch - 123ms/step\n",
      "Epoch 21/40\n",
      "100/100 - 12s - loss: 0.5404 - accuracy: 0.7295 - val_loss: 0.4916 - val_accuracy: 0.7580 - 12s/epoch - 122ms/step\n",
      "Epoch 22/40\n",
      "100/100 - 12s - loss: 0.5345 - accuracy: 0.7390 - val_loss: 0.5146 - val_accuracy: 0.7350 - 12s/epoch - 122ms/step\n",
      "Epoch 23/40\n",
      "100/100 - 12s - loss: 0.5294 - accuracy: 0.7330 - val_loss: 0.4836 - val_accuracy: 0.7690 - 12s/epoch - 123ms/step\n",
      "Epoch 24/40\n",
      "100/100 - 13s - loss: 0.5341 - accuracy: 0.7280 - val_loss: 0.4918 - val_accuracy: 0.7620 - 13s/epoch - 131ms/step\n",
      "Epoch 25/40\n",
      "100/100 - 13s - loss: 0.5184 - accuracy: 0.7440 - val_loss: 0.5191 - val_accuracy: 0.7250 - 13s/epoch - 128ms/step\n",
      "Epoch 26/40\n",
      "100/100 - 13s - loss: 0.5168 - accuracy: 0.7335 - val_loss: 0.5217 - val_accuracy: 0.7450 - 13s/epoch - 129ms/step\n",
      "Epoch 27/40\n",
      "100/100 - 13s - loss: 0.5037 - accuracy: 0.7490 - val_loss: 0.4759 - val_accuracy: 0.7640 - 13s/epoch - 134ms/step\n",
      "Epoch 28/40\n",
      "100/100 - 12s - loss: 0.5144 - accuracy: 0.7395 - val_loss: 0.4826 - val_accuracy: 0.7560 - 12s/epoch - 125ms/step\n",
      "Epoch 29/40\n",
      "100/100 - 12s - loss: 0.5146 - accuracy: 0.7430 - val_loss: 0.4691 - val_accuracy: 0.7660 - 12s/epoch - 123ms/step\n",
      "Epoch 30/40\n",
      "100/100 - 12s - loss: 0.4996 - accuracy: 0.7640 - val_loss: 0.4843 - val_accuracy: 0.7600 - 12s/epoch - 122ms/step\n",
      "Epoch 31/40\n",
      "100/100 - 13s - loss: 0.5020 - accuracy: 0.7550 - val_loss: 0.5079 - val_accuracy: 0.7350 - 13s/epoch - 125ms/step\n",
      "Epoch 32/40\n",
      "100/100 - 12s - loss: 0.4986 - accuracy: 0.7615 - val_loss: 0.4772 - val_accuracy: 0.7630 - 12s/epoch - 119ms/step\n",
      "Epoch 33/40\n",
      "100/100 - 12s - loss: 0.4885 - accuracy: 0.7565 - val_loss: 0.4637 - val_accuracy: 0.7650 - 12s/epoch - 119ms/step\n",
      "Epoch 34/40\n",
      "100/100 - 12s - loss: 0.4917 - accuracy: 0.7705 - val_loss: 0.4629 - val_accuracy: 0.7680 - 12s/epoch - 119ms/step\n",
      "Epoch 35/40\n",
      "100/100 - 12s - loss: 0.5001 - accuracy: 0.7665 - val_loss: 0.4770 - val_accuracy: 0.7560 - 12s/epoch - 120ms/step\n",
      "Epoch 36/40\n",
      "100/100 - 12s - loss: 0.4821 - accuracy: 0.7660 - val_loss: 0.4962 - val_accuracy: 0.7500 - 12s/epoch - 120ms/step\n",
      "Epoch 37/40\n",
      "100/100 - 12s - loss: 0.4909 - accuracy: 0.7600 - val_loss: 0.4582 - val_accuracy: 0.7730 - 12s/epoch - 119ms/step\n",
      "Epoch 38/40\n",
      "100/100 - 12s - loss: 0.4822 - accuracy: 0.7660 - val_loss: 0.4571 - val_accuracy: 0.7820 - 12s/epoch - 119ms/step\n",
      "Epoch 39/40\n",
      "100/100 - 12s - loss: 0.4772 - accuracy: 0.7830 - val_loss: 0.4630 - val_accuracy: 0.7770 - 12s/epoch - 120ms/step\n",
      "Epoch 40/40\n",
      "100/100 - 12s - loss: 0.4788 - accuracy: 0.7715 - val_loss: 0.4618 - val_accuracy: 0.7620 - 12s/epoch - 119ms/step\n"
     ]
    }
   ],
   "source": [
    "# Create new model\n",
    "model_for_aug = create_model()\n",
    "\n",
    "# This code has changed. Now instead of the ImageGenerator just rescaling\n",
    "# the image, we also rotate and do other operations\n",
    "train_datagen = ImageDataGenerator(\n",
    "      rescale=1./255,\n",
    "      rotation_range=40,\n",
    "      width_shift_range=0.2,\n",
    "      height_shift_range=0.2,\n",
    "      shear_range=0.2,\n",
    "      zoom_range=0.2,\n",
    "      horizontal_flip=True,\n",
    "      fill_mode='nearest')\n",
    "\n",
    "test_datagen = ImageDataGenerator(rescale=1./255)\n",
    "\n",
    "# Flow training images in batches of 20 using train_datagen generator\n",
    "train_generator = train_datagen.flow_from_directory(\n",
    "        train_dir,  # This is the source directory for training images\n",
    "        target_size=(150, 150),  # All images will be resized to 150x150\n",
    "        batch_size=20,\n",
    "        # Since we use binary_crossentropy loss, we need binary labels\n",
    "        class_mode='binary')\n",
    "\n",
    "# Flow validation images in batches of 20 using test_datagen generator\n",
    "validation_generator = test_datagen.flow_from_directory(\n",
    "        validation_dir,\n",
    "        target_size=(150, 150),\n",
    "        batch_size=20,\n",
    "        class_mode='binary')\n",
    "\n",
    "# Train the new model\n",
    "history_with_aug = model_for_aug.fit(\n",
    "      train_generator,\n",
    "      steps_per_epoch=100,  # 2000 images = batch_size * steps\n",
    "      epochs=40, #EPOCHS,\n",
    "      validation_data=validation_generator,\n",
    "      validation_steps=50,  # 1000 images = batch_size * steps\n",
    "      verbose=2)"
   ]
  },
  {
   "cell_type": "code",
   "execution_count": 15,
   "metadata": {
    "id": "bnyRnwopT5aW",
    "pycharm": {
     "name": "#%%\n"
    }
   },
   "outputs": [
    {
     "data": {
      "text/plain": "<Figure size 432x288 with 1 Axes>",
      "image/png": "[encoded data removed]"
     },
     "metadata": {
      "needs_background": "light"
     },
     "output_type": "display_data"
    },
    {
     "data": {
      "text/plain": "<Figure size 432x288 with 1 Axes>",
      "image/png": "[encoded data removed]"
     },
     "metadata": {
      "needs_background": "light"
     },
     "output_type": "display_data"
    }
   ],
   "source": [
    "# Plot the results of training with data augmentation\n",
    "plot_loss_acc(history_with_aug)"
   ]
  },
  {
   "cell_type": "markdown",
   "metadata": {
    "id": "1D1hd5fqmJUx",
    "pycharm": {
     "name": "#%% md\n"
    }
   },
   "source": [
    "As you can see, the training accuracy has gone down compared to the baseline. This is expected because (as a result of data augmentation) there are more variety in the images so the model will need more runs to learn from them. The good thing is the validation accuracy is no longer stalling and is more in line with the training results. This means that the model is now performing better on unseen data. \n",
    "\n",
    "\n"
   ]
  },
  {
   "cell_type": "markdown",
   "metadata": {
    "id": "z4B9b6GPnKg1",
    "pycharm": {
     "name": "#%% md\n"
    }
   },
   "source": [
    "## Wrap Up\n",
    "\n",
    "This exercise showed a simple trick to avoid overfitting. You can improve your baseline results by simply tweaking the same images you have already. The `ImageDataGenerator` class has built-in parameters to do just that. Try to modify the values some more in the `train_datagen` and see what results you get.\n",
    "\n",
    "Take note that this will not work for all cases. In the next lesson, Laurence will show a scenario where data augmentation will not help improve your validation accuracy."
   ]
  }
 ],
 "metadata": {
  "accelerator": "GPU",
  "colab": {
   "collapsed_sections": [],
   "name": "C2_W2_Lab_1_cats_v_dogs_augmentation.ipynb",
   "private_outputs": true,
   "provenance": [
    {
     "file_id": "https://github.com/https-deeplearning-ai/tensorflow-1-public/blob/adding_C2/C2/W2/ungraded_labs/C2_W2_Lab_1_cats_v_dogs_augmentation.ipynb",
     "timestamp": 1639637705486
    }
   ]
  },
  "kernelspec": {
   "display_name": "Python 3",
   "language": "python",
   "name": "python3"
  },
  "language_info": {
   "codemirror_mode": {
    "name": "ipython",
    "version": 3
   },
   "file_extension": ".py",
   "mimetype": "text/x-python",
   "name": "python",
   "nbconvert_exporter": "python",
   "pygments_lexer": "ipython3",
   "version": "3.7.4"
  }
 },
 "nbformat": 4,
 "nbformat_minor": 1
}