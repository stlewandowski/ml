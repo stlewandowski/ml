{
 "cells": [
  {
   "cell_type": "code",
   "execution_count": 1,
   "metadata": {
    "collapsed": true,
    "ExecuteTime": {
     "start_time": "2023-05-06T11:22:30.499101Z",
     "end_time": "2023-05-06T11:22:33.824076Z"
    }
   },
   "outputs": [],
   "source": [
    "import tensorflow as tf\n",
    "tf.random.set_seed(42)"
   ]
  },
  {
   "cell_type": "code",
   "execution_count": 2,
   "outputs": [],
   "source": [
    "logdir = 'logs/'\n",
    "writer = tf.summary.create_file_writer(logdir)\n"
   ],
   "metadata": {
    "collapsed": false,
    "ExecuteTime": {
     "start_time": "2023-05-06T11:22:55.666593Z",
     "end_time": "2023-05-06T11:22:56.407587Z"
    }
   }
  },
  {
   "cell_type": "code",
   "execution_count": 3,
   "outputs": [],
   "source": [
    "@tf.function\n",
    "def my_matmult_func(x,y):\n",
    "    result = tf.matmul(x,y)\n",
    "    return result"
   ],
   "metadata": {
    "collapsed": false,
    "ExecuteTime": {
     "start_time": "2023-05-06T11:23:43.728773Z",
     "end_time": "2023-05-06T11:23:43.743774Z"
    }
   }
  },
  {
   "cell_type": "code",
   "execution_count": 4,
   "outputs": [],
   "source": [
    "x = tf.random.uniform((7,7))\n",
    "y = tf.random.uniform((7,7))\n"
   ],
   "metadata": {
    "collapsed": false,
    "ExecuteTime": {
     "start_time": "2023-05-06T11:24:11.083193Z",
     "end_time": "2023-05-06T11:24:11.118192Z"
    }
   }
  },
  {
   "cell_type": "code",
   "execution_count": 7,
   "outputs": [
    {
     "name": "stdout",
     "output_type": "stream",
     "text": [
      "WARNING:tensorflow:Trace already enabled\n"
     ]
    }
   ],
   "source": [
    "tf.summary.trace_on(graph=True, profiler=True)\n",
    "#tf.profiler.experimental.start(graph=True, profiler=True)"
   ],
   "metadata": {
    "collapsed": false,
    "ExecuteTime": {
     "start_time": "2023-05-06T11:25:30.917153Z",
     "end_time": "2023-05-06T11:25:30.932147Z"
    }
   }
  },
  {
   "cell_type": "code",
   "execution_count": 8,
   "outputs": [
    {
     "name": "stdout",
     "output_type": "stream",
     "text": [
      "WARNING:tensorflow:From C:\\Users\\slewan\\AppData\\Roaming\\Python\\Python310\\site-packages\\tensorflow\\python\\ops\\summary_ops_v2.py:1383: stop (from tensorflow.python.eager.profiler) is deprecated and will be removed after 2020-07-01.\n",
      "Instructions for updating:\n",
      "use `tf.profiler.experimental.stop` instead.\n",
      "WARNING:tensorflow:From C:\\Users\\slewan\\AppData\\Roaming\\Python\\Python310\\site-packages\\tensorflow\\python\\ops\\summary_ops_v2.py:1383: save (from tensorflow.python.eager.profiler) is deprecated and will be removed after 2020-07-01.\n",
      "Instructions for updating:\n",
      "`tf.python.eager.profiler` has deprecated, use `tf.profiler` instead.\n",
      "WARNING:tensorflow:From C:\\Users\\slewan\\AppData\\Roaming\\Python\\Python310\\site-packages\\tensorflow\\python\\eager\\profiler.py:150: maybe_create_event_file (from tensorflow.python.eager.profiler) is deprecated and will be removed after 2020-07-01.\n",
      "Instructions for updating:\n",
      "`tf.python.eager.profiler` has deprecated, use `tf.profiler` instead.\n"
     ]
    }
   ],
   "source": [
    "z = my_matmult_func(x,y)\n",
    "with writer.as_default():\n",
    "    tf.summary.trace_export(name='my_func_trace',\n",
    "                            step=0,\n",
    "                            profiler_outdir=logdir)\n",
    "# in terminal: tensorboard --logdir=./logs"
   ],
   "metadata": {
    "collapsed": false,
    "ExecuteTime": {
     "start_time": "2023-05-06T11:26:25.042033Z",
     "end_time": "2023-05-06T11:26:26.784962Z"
    }
   }
  },
  {
   "cell_type": "code",
   "execution_count": 14,
   "outputs": [],
   "source": [
    "# using tensorboard to visualize tensor transformations\n",
    "logdir2 = 'logs2/'\n",
    "writer = tf.summary.create_file_writer(logdir2)\n"
   ],
   "metadata": {
    "collapsed": false,
    "ExecuteTime": {
     "start_time": "2023-05-06T11:35:22.443094Z",
     "end_time": "2023-05-06T11:35:22.483094Z"
    }
   }
  },
  {
   "cell_type": "code",
   "execution_count": 15,
   "outputs": [],
   "source": [
    "@tf.function\n",
    "def my_func(x,y):\n",
    "    r1 = tf.matmul(x,y)\n",
    "    r2 = r1 + tf.ones_like(r1)\n",
    "    r3 = tf.keras.activations.sigmoid(r2)\n",
    "    return r3"
   ],
   "metadata": {
    "collapsed": false,
    "ExecuteTime": {
     "start_time": "2023-05-06T11:35:25.055077Z",
     "end_time": "2023-05-06T11:35:25.063078Z"
    }
   }
  },
  {
   "cell_type": "code",
   "execution_count": 16,
   "outputs": [],
   "source": [
    "x = tf.random.uniform((5,5,5))\n",
    "y = tf.random.uniform((5,5,5))\n"
   ],
   "metadata": {
    "collapsed": false,
    "ExecuteTime": {
     "start_time": "2023-05-06T11:35:27.516587Z",
     "end_time": "2023-05-06T11:35:27.528587Z"
    }
   }
  },
  {
   "cell_type": "code",
   "execution_count": 17,
   "outputs": [],
   "source": [
    "tf.summary.trace_on(graph=True, profiler=True)"
   ],
   "metadata": {
    "collapsed": false,
    "ExecuteTime": {
     "start_time": "2023-05-06T11:35:30.344570Z",
     "end_time": "2023-05-06T11:35:30.351569Z"
    }
   }
  },
  {
   "cell_type": "code",
   "execution_count": 18,
   "outputs": [],
   "source": [
    "z = my_func(x,y)\n",
    "with writer.as_default():\n",
    "    tf.summary.trace_export(name='my_func_trace', step=0, profiler_outdir=logdir2)\n",
    "# in terminal: tensorboard --logdir=./logs"
   ],
   "metadata": {
    "collapsed": false,
    "ExecuteTime": {
     "start_time": "2023-05-06T11:35:33.145553Z",
     "end_time": "2023-05-06T11:35:33.223551Z"
    }
   }
  },
  {
   "cell_type": "code",
   "execution_count": 23,
   "outputs": [
    {
     "name": "stdout",
     "output_type": "stream",
     "text": [
      "Found 1327 images belonging to 2 classes.\n"
     ]
    }
   ],
   "source": [
    "# using tensoboard to visualize images\n",
    "writer = tf.summary.create_file_writer(logdir)\n",
    "train_datagen = tf.keras.preprocessing.image.ImageDataGenerator(rescale=1./255)\n",
    "batch_size = 25\n",
    "training_set = train_datagen.flow_from_directory('image_data',\n",
    "                                                 target_size= (224,224),\n",
    "                                                 batch_size= batch_size,\n",
    "                                                 class_mode= 'binary')\n"
   ],
   "metadata": {
    "collapsed": false,
    "ExecuteTime": {
     "start_time": "2023-05-06T11:46:12.719693Z",
     "end_time": "2023-05-06T11:46:12.801693Z"
    }
   }
  },
  {
   "cell_type": "code",
   "execution_count": 24,
   "outputs": [],
   "source": [
    "with writer.as_default():\n",
    "    tf.summary.image('Training Data',\n",
    "                     next(training_set)[0],\n",
    "                     max_outputs = batch_size,\n",
    "                     step = 0)\n",
    "# tensorboard --lodir=./logs"
   ],
   "metadata": {
    "collapsed": false,
    "ExecuteTime": {
     "start_time": "2023-05-06T11:46:17.153645Z",
     "end_time": "2023-05-06T11:46:17.807638Z"
    }
   }
  }
 ],
 "metadata": {
  "kernelspec": {
   "display_name": "Python 3",
   "language": "python",
   "name": "python3"
  },
  "language_info": {
   "codemirror_mode": {
    "name": "ipython",
    "version": 2
   },
   "file_extension": ".py",
   "mimetype": "text/x-python",
   "name": "python",
   "nbconvert_exporter": "python",
   "pygments_lexer": "ipython2",
   "version": "2.7.6"
  }
 },
 "nbformat": 4,
 "nbformat_minor": 0
}
