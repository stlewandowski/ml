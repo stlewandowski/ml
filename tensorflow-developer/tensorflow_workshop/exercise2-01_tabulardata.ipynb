{
 "cells": [
  {
   "cell_type": "code",
   "execution_count": 4,
   "metadata": {
    "collapsed": true,
    "ExecuteTime": {
     "start_time": "2023-04-22T13:39:22.230389Z",
     "end_time": "2023-04-22T13:39:22.653381Z"
    }
   },
   "outputs": [],
   "source": [
    "import pandas as pd\n"
   ]
  },
  {
   "cell_type": "code",
   "execution_count": 2,
   "outputs": [
    {
     "data": {
      "text/plain": "('Bias_correction_ucl.csv', <http.client.HTTPMessage at 0x20e4c2c7610>)"
     },
     "execution_count": 2,
     "metadata": {},
     "output_type": "execute_result"
    }
   ],
   "source": [
    "###!!!only need to run this once\n",
    "import urllib.request\n",
    "url = 'https://raw.githubusercontent.com/PacktWorkshops/The-TensorFlow-Workshop/master/Chapter02/Datasets/Bias_correction_ucl.csv'\n",
    "filename = 'Bias_correction_ucl.csv'\n",
    "urllib.request.urlretrieve(url, filename)"
   ],
   "metadata": {
    "collapsed": false,
    "ExecuteTime": {
     "start_time": "2023-04-22T13:38:36.983655Z",
     "end_time": "2023-04-22T13:38:37.243648Z"
    }
   }
  },
  {
   "cell_type": "code",
   "execution_count": 5,
   "outputs": [
    {
     "data": {
      "text/plain": "      station        Date  Present_Tmax  Present_Tmin  LDAPS_RHmin  \\\n0         1.0  2013-06-30          28.7          21.4    58.255688   \n1         2.0  2013-06-30          31.9          21.6    52.263397   \n2         3.0  2013-06-30          31.6          23.3    48.690479   \n3         4.0  2013-06-30          32.0          23.4    58.239788   \n4         5.0  2013-06-30          31.4          21.9    56.174095   \n...       ...         ...           ...           ...          ...   \n7747     23.0  2017-08-30          23.3          17.1    26.741310   \n7748     24.0  2017-08-30          23.3          17.7    24.040634   \n7749     25.0  2017-08-30          23.2          17.4    22.933014   \n7750      NaN         NaN          20.0          11.3    19.794666   \n7751      NaN         NaN          37.6          29.9    98.524734   \n\n      LDAPS_RHmax  LDAPS_Tmax_lapse  LDAPS_Tmin_lapse   LDAPS_WS    LDAPS_LH  \\\n0       91.116364         28.074101         23.006936   6.818887   69.451805   \n1       90.604721         29.850689         24.035009   5.691890   51.937448   \n2       83.973587         30.091292         24.565633   6.138224   20.573050   \n3       96.483688         29.704629         23.326177   5.650050   65.727144   \n4       90.155128         29.113934         23.486480   5.735004  107.965535   \n...           ...               ...               ...        ...         ...   \n7747    78.869858         26.352081         18.775678   6.148918   72.058294   \n7748    77.294975         27.010193         18.733519   6.542819   47.241457   \n7749    77.243744         27.939516         18.522965   7.289264    9.090034   \n7750    58.936283         17.624954         14.272646   2.882580  -13.603212   \n7751   100.000153         38.542255         29.619342  21.857621  213.414006   \n\n      ...  LDAPS_PPT2  LDAPS_PPT3  LDAPS_PPT4      lat      lon       DEM  \\\n0     ...    0.000000    0.000000    0.000000  37.6046  126.991  212.3350   \n1     ...    0.000000    0.000000    0.000000  37.6046  127.032   44.7624   \n2     ...    0.000000    0.000000    0.000000  37.5776  127.058   33.3068   \n3     ...    0.000000    0.000000    0.000000  37.6450  127.022   45.7160   \n4     ...    0.000000    0.000000    0.000000  37.5507  127.135   35.0380   \n...   ...         ...         ...         ...      ...      ...       ...   \n7747  ...    0.000000    0.000000    0.000000  37.5372  126.891   15.5876   \n7748  ...    0.000000    0.000000    0.000000  37.5237  126.909   17.2956   \n7749  ...    0.000000    0.000000    0.000000  37.5237  126.970   19.5844   \n7750  ...    0.000000    0.000000    0.000000  37.4562  126.826   12.3700   \n7751  ...   21.621661   15.841235   16.655469  37.6450  127.135  212.3350   \n\n         Slope  Solar radiation  Next_Tmax  Next_Tmin  \n0     2.785000      5992.895996       29.1       21.2  \n1     0.514100      5869.312500       30.5       22.5  \n2     0.266100      5863.555664       31.1       23.9  \n3     2.534800      5856.964844       31.7       24.3  \n4     0.505500      5859.552246       31.2       22.5  \n...        ...              ...        ...        ...  \n7747  0.155400      4443.313965       28.3       18.1  \n7748  0.222300      4438.373535       28.6       18.8  \n7749  0.271300      4451.345215       27.8       17.4  \n7750  0.098475      4329.520508       17.4       11.3  \n7751  5.178230      5992.895996       38.9       29.8  \n\n[7752 rows x 25 columns]",
      "text/html": "<div>\n<style scoped>\n    .dataframe tbody tr th:only-of-type {\n        vertical-align: middle;\n    }\n\n    .dataframe tbody tr th {\n        vertical-align: top;\n    }\n\n    .dataframe thead th {\n        text-align: right;\n    }\n</style>\n<table border=\"1\" class=\"dataframe\">\n  <thead>\n    <tr style=\"text-align: right;\">\n      <th></th>\n      <th>station</th>\n      <th>Date</th>\n      <th>Present_Tmax</th>\n      <th>Present_Tmin</th>\n      <th>LDAPS_RHmin</th>\n      <th>LDAPS_RHmax</th>\n      <th>LDAPS_Tmax_lapse</th>\n      <th>LDAPS_Tmin_lapse</th>\n      <th>LDAPS_WS</th>\n      <th>LDAPS_LH</th>\n      <th>...</th>\n      <th>LDAPS_PPT2</th>\n      <th>LDAPS_PPT3</th>\n      <th>LDAPS_PPT4</th>\n      <th>lat</th>\n      <th>lon</th>\n      <th>DEM</th>\n      <th>Slope</th>\n      <th>Solar radiation</th>\n      <th>Next_Tmax</th>\n      <th>Next_Tmin</th>\n    </tr>\n  </thead>\n  <tbody>\n    <tr>\n      <th>0</th>\n      <td>1.0</td>\n      <td>2013-06-30</td>\n      <td>28.7</td>\n      <td>21.4</td>\n      <td>58.255688</td>\n      <td>91.116364</td>\n      <td>28.074101</td>\n      <td>23.006936</td>\n      <td>6.818887</td>\n      <td>69.451805</td>\n      <td>...</td>\n      <td>0.000000</td>\n      <td>0.000000</td>\n      <td>0.000000</td>\n      <td>37.6046</td>\n      <td>126.991</td>\n      <td>212.3350</td>\n      <td>2.785000</td>\n      <td>5992.895996</td>\n      <td>29.1</td>\n      <td>21.2</td>\n    </tr>\n    <tr>\n      <th>1</th>\n      <td>2.0</td>\n      <td>2013-06-30</td>\n      <td>31.9</td>\n      <td>21.6</td>\n      <td>52.263397</td>\n      <td>90.604721</td>\n      <td>29.850689</td>\n      <td>24.035009</td>\n      <td>5.691890</td>\n      <td>51.937448</td>\n      <td>...</td>\n      <td>0.000000</td>\n      <td>0.000000</td>\n      <td>0.000000</td>\n      <td>37.6046</td>\n      <td>127.032</td>\n      <td>44.7624</td>\n      <td>0.514100</td>\n      <td>5869.312500</td>\n      <td>30.5</td>\n      <td>22.5</td>\n    </tr>\n    <tr>\n      <th>2</th>\n      <td>3.0</td>\n      <td>2013-06-30</td>\n      <td>31.6</td>\n      <td>23.3</td>\n      <td>48.690479</td>\n      <td>83.973587</td>\n      <td>30.091292</td>\n      <td>24.565633</td>\n      <td>6.138224</td>\n      <td>20.573050</td>\n      <td>...</td>\n      <td>0.000000</td>\n      <td>0.000000</td>\n      <td>0.000000</td>\n      <td>37.5776</td>\n      <td>127.058</td>\n      <td>33.3068</td>\n      <td>0.266100</td>\n      <td>5863.555664</td>\n      <td>31.1</td>\n      <td>23.9</td>\n    </tr>\n    <tr>\n      <th>3</th>\n      <td>4.0</td>\n      <td>2013-06-30</td>\n      <td>32.0</td>\n      <td>23.4</td>\n      <td>58.239788</td>\n      <td>96.483688</td>\n      <td>29.704629</td>\n      <td>23.326177</td>\n      <td>5.650050</td>\n      <td>65.727144</td>\n      <td>...</td>\n      <td>0.000000</td>\n      <td>0.000000</td>\n      <td>0.000000</td>\n      <td>37.6450</td>\n      <td>127.022</td>\n      <td>45.7160</td>\n      <td>2.534800</td>\n      <td>5856.964844</td>\n      <td>31.7</td>\n      <td>24.3</td>\n    </tr>\n    <tr>\n      <th>4</th>\n      <td>5.0</td>\n      <td>2013-06-30</td>\n      <td>31.4</td>\n      <td>21.9</td>\n      <td>56.174095</td>\n      <td>90.155128</td>\n      <td>29.113934</td>\n      <td>23.486480</td>\n      <td>5.735004</td>\n      <td>107.965535</td>\n      <td>...</td>\n      <td>0.000000</td>\n      <td>0.000000</td>\n      <td>0.000000</td>\n      <td>37.5507</td>\n      <td>127.135</td>\n      <td>35.0380</td>\n      <td>0.505500</td>\n      <td>5859.552246</td>\n      <td>31.2</td>\n      <td>22.5</td>\n    </tr>\n    <tr>\n      <th>...</th>\n      <td>...</td>\n      <td>...</td>\n      <td>...</td>\n      <td>...</td>\n      <td>...</td>\n      <td>...</td>\n      <td>...</td>\n      <td>...</td>\n      <td>...</td>\n      <td>...</td>\n      <td>...</td>\n      <td>...</td>\n      <td>...</td>\n      <td>...</td>\n      <td>...</td>\n      <td>...</td>\n      <td>...</td>\n      <td>...</td>\n      <td>...</td>\n      <td>...</td>\n      <td>...</td>\n    </tr>\n    <tr>\n      <th>7747</th>\n      <td>23.0</td>\n      <td>2017-08-30</td>\n      <td>23.3</td>\n      <td>17.1</td>\n      <td>26.741310</td>\n      <td>78.869858</td>\n      <td>26.352081</td>\n      <td>18.775678</td>\n      <td>6.148918</td>\n      <td>72.058294</td>\n      <td>...</td>\n      <td>0.000000</td>\n      <td>0.000000</td>\n      <td>0.000000</td>\n      <td>37.5372</td>\n      <td>126.891</td>\n      <td>15.5876</td>\n      <td>0.155400</td>\n      <td>4443.313965</td>\n      <td>28.3</td>\n      <td>18.1</td>\n    </tr>\n    <tr>\n      <th>7748</th>\n      <td>24.0</td>\n      <td>2017-08-30</td>\n      <td>23.3</td>\n      <td>17.7</td>\n      <td>24.040634</td>\n      <td>77.294975</td>\n      <td>27.010193</td>\n      <td>18.733519</td>\n      <td>6.542819</td>\n      <td>47.241457</td>\n      <td>...</td>\n      <td>0.000000</td>\n      <td>0.000000</td>\n      <td>0.000000</td>\n      <td>37.5237</td>\n      <td>126.909</td>\n      <td>17.2956</td>\n      <td>0.222300</td>\n      <td>4438.373535</td>\n      <td>28.6</td>\n      <td>18.8</td>\n    </tr>\n    <tr>\n      <th>7749</th>\n      <td>25.0</td>\n      <td>2017-08-30</td>\n      <td>23.2</td>\n      <td>17.4</td>\n      <td>22.933014</td>\n      <td>77.243744</td>\n      <td>27.939516</td>\n      <td>18.522965</td>\n      <td>7.289264</td>\n      <td>9.090034</td>\n      <td>...</td>\n      <td>0.000000</td>\n      <td>0.000000</td>\n      <td>0.000000</td>\n      <td>37.5237</td>\n      <td>126.970</td>\n      <td>19.5844</td>\n      <td>0.271300</td>\n      <td>4451.345215</td>\n      <td>27.8</td>\n      <td>17.4</td>\n    </tr>\n    <tr>\n      <th>7750</th>\n      <td>NaN</td>\n      <td>NaN</td>\n      <td>20.0</td>\n      <td>11.3</td>\n      <td>19.794666</td>\n      <td>58.936283</td>\n      <td>17.624954</td>\n      <td>14.272646</td>\n      <td>2.882580</td>\n      <td>-13.603212</td>\n      <td>...</td>\n      <td>0.000000</td>\n      <td>0.000000</td>\n      <td>0.000000</td>\n      <td>37.4562</td>\n      <td>126.826</td>\n      <td>12.3700</td>\n      <td>0.098475</td>\n      <td>4329.520508</td>\n      <td>17.4</td>\n      <td>11.3</td>\n    </tr>\n    <tr>\n      <th>7751</th>\n      <td>NaN</td>\n      <td>NaN</td>\n      <td>37.6</td>\n      <td>29.9</td>\n      <td>98.524734</td>\n      <td>100.000153</td>\n      <td>38.542255</td>\n      <td>29.619342</td>\n      <td>21.857621</td>\n      <td>213.414006</td>\n      <td>...</td>\n      <td>21.621661</td>\n      <td>15.841235</td>\n      <td>16.655469</td>\n      <td>37.6450</td>\n      <td>127.135</td>\n      <td>212.3350</td>\n      <td>5.178230</td>\n      <td>5992.895996</td>\n      <td>38.9</td>\n      <td>29.8</td>\n    </tr>\n  </tbody>\n</table>\n<p>7752 rows × 25 columns</p>\n</div>"
     },
     "execution_count": 5,
     "metadata": {},
     "output_type": "execute_result"
    }
   ],
   "source": [
    "df = pd.read_csv('Bias_correction_ucl.csv')\n",
    "df"
   ],
   "metadata": {
    "collapsed": false,
    "ExecuteTime": {
     "start_time": "2023-04-22T13:39:25.413325Z",
     "end_time": "2023-04-22T13:39:25.470326Z"
    }
   }
  },
  {
   "cell_type": "code",
   "execution_count": 6,
   "outputs": [
    {
     "data": {
      "text/plain": "   station  Present_Tmax  Present_Tmin  LDAPS_RHmin  LDAPS_RHmax  \\\n0      1.0          28.7          21.4    58.255688    91.116364   \n1      2.0          31.9          21.6    52.263397    90.604721   \n2      3.0          31.6          23.3    48.690479    83.973587   \n3      4.0          32.0          23.4    58.239788    96.483688   \n4      5.0          31.4          21.9    56.174095    90.155128   \n\n   LDAPS_Tmax_lapse  LDAPS_Tmin_lapse  LDAPS_WS    LDAPS_LH  LDAPS_CC1  ...  \\\n0         28.074101         23.006936  6.818887   69.451805   0.233947  ...   \n1         29.850689         24.035009  5.691890   51.937448   0.225508  ...   \n2         30.091292         24.565633  6.138224   20.573050   0.209344  ...   \n3         29.704629         23.326177  5.650050   65.727144   0.216372  ...   \n4         29.113934         23.486480  5.735004  107.965535   0.151407  ...   \n\n   LDAPS_PPT2  LDAPS_PPT3  LDAPS_PPT4      lat      lon       DEM   Slope  \\\n0         0.0         0.0         0.0  37.6046  126.991  212.3350  2.7850   \n1         0.0         0.0         0.0  37.6046  127.032   44.7624  0.5141   \n2         0.0         0.0         0.0  37.5776  127.058   33.3068  0.2661   \n3         0.0         0.0         0.0  37.6450  127.022   45.7160  2.5348   \n4         0.0         0.0         0.0  37.5507  127.135   35.0380  0.5055   \n\n   Solar radiation  Next_Tmax  Next_Tmin  \n0      5992.895996       29.1       21.2  \n1      5869.312500       30.5       22.5  \n2      5863.555664       31.1       23.9  \n3      5856.964844       31.7       24.3  \n4      5859.552246       31.2       22.5  \n\n[5 rows x 24 columns]",
      "text/html": "<div>\n<style scoped>\n    .dataframe tbody tr th:only-of-type {\n        vertical-align: middle;\n    }\n\n    .dataframe tbody tr th {\n        vertical-align: top;\n    }\n\n    .dataframe thead th {\n        text-align: right;\n    }\n</style>\n<table border=\"1\" class=\"dataframe\">\n  <thead>\n    <tr style=\"text-align: right;\">\n      <th></th>\n      <th>station</th>\n      <th>Present_Tmax</th>\n      <th>Present_Tmin</th>\n      <th>LDAPS_RHmin</th>\n      <th>LDAPS_RHmax</th>\n      <th>LDAPS_Tmax_lapse</th>\n      <th>LDAPS_Tmin_lapse</th>\n      <th>LDAPS_WS</th>\n      <th>LDAPS_LH</th>\n      <th>LDAPS_CC1</th>\n      <th>...</th>\n      <th>LDAPS_PPT2</th>\n      <th>LDAPS_PPT3</th>\n      <th>LDAPS_PPT4</th>\n      <th>lat</th>\n      <th>lon</th>\n      <th>DEM</th>\n      <th>Slope</th>\n      <th>Solar radiation</th>\n      <th>Next_Tmax</th>\n      <th>Next_Tmin</th>\n    </tr>\n  </thead>\n  <tbody>\n    <tr>\n      <th>0</th>\n      <td>1.0</td>\n      <td>28.7</td>\n      <td>21.4</td>\n      <td>58.255688</td>\n      <td>91.116364</td>\n      <td>28.074101</td>\n      <td>23.006936</td>\n      <td>6.818887</td>\n      <td>69.451805</td>\n      <td>0.233947</td>\n      <td>...</td>\n      <td>0.0</td>\n      <td>0.0</td>\n      <td>0.0</td>\n      <td>37.6046</td>\n      <td>126.991</td>\n      <td>212.3350</td>\n      <td>2.7850</td>\n      <td>5992.895996</td>\n      <td>29.1</td>\n      <td>21.2</td>\n    </tr>\n    <tr>\n      <th>1</th>\n      <td>2.0</td>\n      <td>31.9</td>\n      <td>21.6</td>\n      <td>52.263397</td>\n      <td>90.604721</td>\n      <td>29.850689</td>\n      <td>24.035009</td>\n      <td>5.691890</td>\n      <td>51.937448</td>\n      <td>0.225508</td>\n      <td>...</td>\n      <td>0.0</td>\n      <td>0.0</td>\n      <td>0.0</td>\n      <td>37.6046</td>\n      <td>127.032</td>\n      <td>44.7624</td>\n      <td>0.5141</td>\n      <td>5869.312500</td>\n      <td>30.5</td>\n      <td>22.5</td>\n    </tr>\n    <tr>\n      <th>2</th>\n      <td>3.0</td>\n      <td>31.6</td>\n      <td>23.3</td>\n      <td>48.690479</td>\n      <td>83.973587</td>\n      <td>30.091292</td>\n      <td>24.565633</td>\n      <td>6.138224</td>\n      <td>20.573050</td>\n      <td>0.209344</td>\n      <td>...</td>\n      <td>0.0</td>\n      <td>0.0</td>\n      <td>0.0</td>\n      <td>37.5776</td>\n      <td>127.058</td>\n      <td>33.3068</td>\n      <td>0.2661</td>\n      <td>5863.555664</td>\n      <td>31.1</td>\n      <td>23.9</td>\n    </tr>\n    <tr>\n      <th>3</th>\n      <td>4.0</td>\n      <td>32.0</td>\n      <td>23.4</td>\n      <td>58.239788</td>\n      <td>96.483688</td>\n      <td>29.704629</td>\n      <td>23.326177</td>\n      <td>5.650050</td>\n      <td>65.727144</td>\n      <td>0.216372</td>\n      <td>...</td>\n      <td>0.0</td>\n      <td>0.0</td>\n      <td>0.0</td>\n      <td>37.6450</td>\n      <td>127.022</td>\n      <td>45.7160</td>\n      <td>2.5348</td>\n      <td>5856.964844</td>\n      <td>31.7</td>\n      <td>24.3</td>\n    </tr>\n    <tr>\n      <th>4</th>\n      <td>5.0</td>\n      <td>31.4</td>\n      <td>21.9</td>\n      <td>56.174095</td>\n      <td>90.155128</td>\n      <td>29.113934</td>\n      <td>23.486480</td>\n      <td>5.735004</td>\n      <td>107.965535</td>\n      <td>0.151407</td>\n      <td>...</td>\n      <td>0.0</td>\n      <td>0.0</td>\n      <td>0.0</td>\n      <td>37.5507</td>\n      <td>127.135</td>\n      <td>35.0380</td>\n      <td>0.5055</td>\n      <td>5859.552246</td>\n      <td>31.2</td>\n      <td>22.5</td>\n    </tr>\n  </tbody>\n</table>\n<p>5 rows × 24 columns</p>\n</div>"
     },
     "execution_count": 6,
     "metadata": {},
     "output_type": "execute_result"
    }
   ],
   "source": [
    "df.drop('Date', inplace=True, axis=1)\n",
    "df.head()"
   ],
   "metadata": {
    "collapsed": false,
    "ExecuteTime": {
     "start_time": "2023-04-22T13:39:53.483636Z",
     "end_time": "2023-04-22T13:39:53.514634Z"
    }
   }
  },
  {
   "cell_type": "code",
   "execution_count": 7,
   "outputs": [
    {
     "data": {
      "text/plain": "Text(0, 0.5, 'Frequency')"
     },
     "execution_count": 7,
     "metadata": {},
     "output_type": "execute_result"
    },
    {
     "data": {
      "text/plain": "<Figure size 432x288 with 1 Axes>",
      "image/png": "[encoded data removed]"
     },
     "metadata": {
      "needs_background": "light"
     },
     "output_type": "display_data"
    }
   ],
   "source": [
    "ax = df['Present_Tmax'].hist(color='gray')\n",
    "ax.set_xlabel('Temperature')\n",
    "ax.set_ylabel('Frequency')"
   ],
   "metadata": {
    "collapsed": false,
    "ExecuteTime": {
     "start_time": "2023-04-22T13:40:38.701342Z",
     "end_time": "2023-04-22T13:40:39.738315Z"
    }
   }
  },
  {
   "cell_type": "code",
   "execution_count": 9,
   "outputs": [
    {
     "data": {
      "text/plain": "    station  Present_Tmax  Present_Tmin  LDAPS_RHmin  LDAPS_RHmax  \\\n0 -1.664101     -0.359691     -0.756092     0.102018     0.381220   \n1 -1.525426      0.717821     -0.673236    -0.306534     0.310075   \n2 -1.386750      0.616804      0.031047    -0.550133    -0.612000   \n3 -1.248075      0.751493      0.072475     0.100934     1.127560   \n4 -1.109400      0.549460     -0.548950    -0.039904     0.247558   \n\n   LDAPS_Tmax_lapse  LDAPS_Tmin_lapse  LDAPS_WS  LDAPS_LH  LDAPS_CC1  ...  \\\n0         -0.522343         -0.215612 -0.127759  0.205963  -0.513740  ...   \n1          0.080503          0.222762 -0.643856 -0.313314  -0.545897  ...   \n2          0.162146          0.449022 -0.439462 -1.243225  -0.607490  ...   \n3          0.030941         -0.079487 -0.663016  0.095532  -0.580709  ...   \n4         -0.169499         -0.011133 -0.624112  1.347841  -0.828251  ...   \n\n   LDAPS_PPT2  LDAPS_PPT3  LDAPS_PPT4       lat       lon       DEM     Slope  \\\n0   -0.275149    -0.23947   -0.223364  1.189286 -0.005000  2.772243  1.115004   \n1   -0.275149    -0.23947   -0.223364  1.189286  0.511177 -0.315157 -0.542158   \n2   -0.275149    -0.23947   -0.223364  0.653021  0.838510 -0.526218 -0.723133   \n3   -0.275149    -0.23947   -0.223364  1.991696  0.385280 -0.297588  0.932424   \n4   -0.275149    -0.23947   -0.223364  0.118743  1.807917 -0.494322 -0.548433   \n\n   Solar radiation  Next_Tmax  Next_Tmin  \n0         1.517935  -0.375626  -0.696383  \n1         1.229950   0.071972  -0.173760  \n2         1.216534   0.263799   0.389065  \n3         1.201176   0.455627   0.549872  \n4         1.207205   0.295771  -0.173760  \n\n[5 rows x 24 columns]",
      "text/html": "<div>\n<style scoped>\n    .dataframe tbody tr th:only-of-type {\n        vertical-align: middle;\n    }\n\n    .dataframe tbody tr th {\n        vertical-align: top;\n    }\n\n    .dataframe thead th {\n        text-align: right;\n    }\n</style>\n<table border=\"1\" class=\"dataframe\">\n  <thead>\n    <tr style=\"text-align: right;\">\n      <th></th>\n      <th>station</th>\n      <th>Present_Tmax</th>\n      <th>Present_Tmin</th>\n      <th>LDAPS_RHmin</th>\n      <th>LDAPS_RHmax</th>\n      <th>LDAPS_Tmax_lapse</th>\n      <th>LDAPS_Tmin_lapse</th>\n      <th>LDAPS_WS</th>\n      <th>LDAPS_LH</th>\n      <th>LDAPS_CC1</th>\n      <th>...</th>\n      <th>LDAPS_PPT2</th>\n      <th>LDAPS_PPT3</th>\n      <th>LDAPS_PPT4</th>\n      <th>lat</th>\n      <th>lon</th>\n      <th>DEM</th>\n      <th>Slope</th>\n      <th>Solar radiation</th>\n      <th>Next_Tmax</th>\n      <th>Next_Tmin</th>\n    </tr>\n  </thead>\n  <tbody>\n    <tr>\n      <th>0</th>\n      <td>-1.664101</td>\n      <td>-0.359691</td>\n      <td>-0.756092</td>\n      <td>0.102018</td>\n      <td>0.381220</td>\n      <td>-0.522343</td>\n      <td>-0.215612</td>\n      <td>-0.127759</td>\n      <td>0.205963</td>\n      <td>-0.513740</td>\n      <td>...</td>\n      <td>-0.275149</td>\n      <td>-0.23947</td>\n      <td>-0.223364</td>\n      <td>1.189286</td>\n      <td>-0.005000</td>\n      <td>2.772243</td>\n      <td>1.115004</td>\n      <td>1.517935</td>\n      <td>-0.375626</td>\n      <td>-0.696383</td>\n    </tr>\n    <tr>\n      <th>1</th>\n      <td>-1.525426</td>\n      <td>0.717821</td>\n      <td>-0.673236</td>\n      <td>-0.306534</td>\n      <td>0.310075</td>\n      <td>0.080503</td>\n      <td>0.222762</td>\n      <td>-0.643856</td>\n      <td>-0.313314</td>\n      <td>-0.545897</td>\n      <td>...</td>\n      <td>-0.275149</td>\n      <td>-0.23947</td>\n      <td>-0.223364</td>\n      <td>1.189286</td>\n      <td>0.511177</td>\n      <td>-0.315157</td>\n      <td>-0.542158</td>\n      <td>1.229950</td>\n      <td>0.071972</td>\n      <td>-0.173760</td>\n    </tr>\n    <tr>\n      <th>2</th>\n      <td>-1.386750</td>\n      <td>0.616804</td>\n      <td>0.031047</td>\n      <td>-0.550133</td>\n      <td>-0.612000</td>\n      <td>0.162146</td>\n      <td>0.449022</td>\n      <td>-0.439462</td>\n      <td>-1.243225</td>\n      <td>-0.607490</td>\n      <td>...</td>\n      <td>-0.275149</td>\n      <td>-0.23947</td>\n      <td>-0.223364</td>\n      <td>0.653021</td>\n      <td>0.838510</td>\n      <td>-0.526218</td>\n      <td>-0.723133</td>\n      <td>1.216534</td>\n      <td>0.263799</td>\n      <td>0.389065</td>\n    </tr>\n    <tr>\n      <th>3</th>\n      <td>-1.248075</td>\n      <td>0.751493</td>\n      <td>0.072475</td>\n      <td>0.100934</td>\n      <td>1.127560</td>\n      <td>0.030941</td>\n      <td>-0.079487</td>\n      <td>-0.663016</td>\n      <td>0.095532</td>\n      <td>-0.580709</td>\n      <td>...</td>\n      <td>-0.275149</td>\n      <td>-0.23947</td>\n      <td>-0.223364</td>\n      <td>1.991696</td>\n      <td>0.385280</td>\n      <td>-0.297588</td>\n      <td>0.932424</td>\n      <td>1.201176</td>\n      <td>0.455627</td>\n      <td>0.549872</td>\n    </tr>\n    <tr>\n      <th>4</th>\n      <td>-1.109400</td>\n      <td>0.549460</td>\n      <td>-0.548950</td>\n      <td>-0.039904</td>\n      <td>0.247558</td>\n      <td>-0.169499</td>\n      <td>-0.011133</td>\n      <td>-0.624112</td>\n      <td>1.347841</td>\n      <td>-0.828251</td>\n      <td>...</td>\n      <td>-0.275149</td>\n      <td>-0.23947</td>\n      <td>-0.223364</td>\n      <td>0.118743</td>\n      <td>1.807917</td>\n      <td>-0.494322</td>\n      <td>-0.548433</td>\n      <td>1.207205</td>\n      <td>0.295771</td>\n      <td>-0.173760</td>\n    </tr>\n  </tbody>\n</table>\n<p>5 rows × 24 columns</p>\n</div>"
     },
     "execution_count": 9,
     "metadata": {},
     "output_type": "execute_result"
    }
   ],
   "source": [
    "from sklearn.preprocessing import StandardScaler\n",
    "scaler = StandardScaler()\n",
    "df2 = scaler.fit_transform(df)\n",
    "df2 = pd.DataFrame(df2, columns=df.columns)\n",
    "df2.head()"
   ],
   "metadata": {
    "collapsed": false,
    "ExecuteTime": {
     "start_time": "2023-04-22T13:41:57.366467Z",
     "end_time": "2023-04-22T13:41:57.398466Z"
    }
   }
  },
  {
   "cell_type": "code",
   "execution_count": 10,
   "outputs": [
    {
     "data": {
      "text/plain": "Text(0, 0.5, 'Frequency')"
     },
     "execution_count": 10,
     "metadata": {},
     "output_type": "execute_result"
    },
    {
     "data": {
      "text/plain": "<Figure size 432x288 with 1 Axes>",
      "image/png": "[encoded data removed]"
     },
     "metadata": {
      "needs_background": "light"
     },
     "output_type": "display_data"
    }
   ],
   "source": [
    "ax = df2['Present_Tmax'].hist(color='gray')\n",
    "ax.set_xlabel(\"Normalised Temperature\")\n",
    "ax.set_ylabel(\"Frequency\")"
   ],
   "metadata": {
    "collapsed": false,
    "ExecuteTime": {
     "start_time": "2023-04-22T13:42:48.668080Z",
     "end_time": "2023-04-22T13:42:48.763078Z"
    }
   }
  },
  {
   "cell_type": "code",
   "execution_count": 11,
   "outputs": [
    {
     "data": {
      "text/plain": "   station       Date  Present_Tmax  Present_Tmin  LDAPS_RHmin  LDAPS_RHmax  \\\n0      1.0 2013-06-30          28.7          21.4    58.255688    91.116364   \n1      2.0 2013-06-30          31.9          21.6    52.263397    90.604721   \n2      3.0 2013-06-30          31.6          23.3    48.690479    83.973587   \n3      4.0 2013-06-30          32.0          23.4    58.239788    96.483688   \n4      5.0 2013-06-30          31.4          21.9    56.174095    90.155128   \n\n   LDAPS_Tmax_lapse  LDAPS_Tmin_lapse  LDAPS_WS    LDAPS_LH  ...  LDAPS_PPT2  \\\n0         28.074101         23.006936  6.818887   69.451805  ...         0.0   \n1         29.850689         24.035009  5.691890   51.937448  ...         0.0   \n2         30.091292         24.565633  6.138224   20.573050  ...         0.0   \n3         29.704629         23.326177  5.650050   65.727144  ...         0.0   \n4         29.113934         23.486480  5.735004  107.965535  ...         0.0   \n\n   LDAPS_PPT3  LDAPS_PPT4      lat      lon       DEM   Slope  \\\n0         0.0         0.0  37.6046  126.991  212.3350  2.7850   \n1         0.0         0.0  37.6046  127.032   44.7624  0.5141   \n2         0.0         0.0  37.5776  127.058   33.3068  0.2661   \n3         0.0         0.0  37.6450  127.022   45.7160  2.5348   \n4         0.0         0.0  37.5507  127.135   35.0380  0.5055   \n\n   Solar radiation  Next_Tmax  Next_Tmin  \n0      5992.895996       29.1       21.2  \n1      5869.312500       30.5       22.5  \n2      5863.555664       31.1       23.9  \n3      5856.964844       31.7       24.3  \n4      5859.552246       31.2       22.5  \n\n[5 rows x 25 columns]",
      "text/html": "<div>\n<style scoped>\n    .dataframe tbody tr th:only-of-type {\n        vertical-align: middle;\n    }\n\n    .dataframe tbody tr th {\n        vertical-align: top;\n    }\n\n    .dataframe thead th {\n        text-align: right;\n    }\n</style>\n<table border=\"1\" class=\"dataframe\">\n  <thead>\n    <tr style=\"text-align: right;\">\n      <th></th>\n      <th>station</th>\n      <th>Date</th>\n      <th>Present_Tmax</th>\n      <th>Present_Tmin</th>\n      <th>LDAPS_RHmin</th>\n      <th>LDAPS_RHmax</th>\n      <th>LDAPS_Tmax_lapse</th>\n      <th>LDAPS_Tmin_lapse</th>\n      <th>LDAPS_WS</th>\n      <th>LDAPS_LH</th>\n      <th>...</th>\n      <th>LDAPS_PPT2</th>\n      <th>LDAPS_PPT3</th>\n      <th>LDAPS_PPT4</th>\n      <th>lat</th>\n      <th>lon</th>\n      <th>DEM</th>\n      <th>Slope</th>\n      <th>Solar radiation</th>\n      <th>Next_Tmax</th>\n      <th>Next_Tmin</th>\n    </tr>\n  </thead>\n  <tbody>\n    <tr>\n      <th>0</th>\n      <td>1.0</td>\n      <td>2013-06-30</td>\n      <td>28.7</td>\n      <td>21.4</td>\n      <td>58.255688</td>\n      <td>91.116364</td>\n      <td>28.074101</td>\n      <td>23.006936</td>\n      <td>6.818887</td>\n      <td>69.451805</td>\n      <td>...</td>\n      <td>0.0</td>\n      <td>0.0</td>\n      <td>0.0</td>\n      <td>37.6046</td>\n      <td>126.991</td>\n      <td>212.3350</td>\n      <td>2.7850</td>\n      <td>5992.895996</td>\n      <td>29.1</td>\n      <td>21.2</td>\n    </tr>\n    <tr>\n      <th>1</th>\n      <td>2.0</td>\n      <td>2013-06-30</td>\n      <td>31.9</td>\n      <td>21.6</td>\n      <td>52.263397</td>\n      <td>90.604721</td>\n      <td>29.850689</td>\n      <td>24.035009</td>\n      <td>5.691890</td>\n      <td>51.937448</td>\n      <td>...</td>\n      <td>0.0</td>\n      <td>0.0</td>\n      <td>0.0</td>\n      <td>37.6046</td>\n      <td>127.032</td>\n      <td>44.7624</td>\n      <td>0.5141</td>\n      <td>5869.312500</td>\n      <td>30.5</td>\n      <td>22.5</td>\n    </tr>\n    <tr>\n      <th>2</th>\n      <td>3.0</td>\n      <td>2013-06-30</td>\n      <td>31.6</td>\n      <td>23.3</td>\n      <td>48.690479</td>\n      <td>83.973587</td>\n      <td>30.091292</td>\n      <td>24.565633</td>\n      <td>6.138224</td>\n      <td>20.573050</td>\n      <td>...</td>\n      <td>0.0</td>\n      <td>0.0</td>\n      <td>0.0</td>\n      <td>37.5776</td>\n      <td>127.058</td>\n      <td>33.3068</td>\n      <td>0.2661</td>\n      <td>5863.555664</td>\n      <td>31.1</td>\n      <td>23.9</td>\n    </tr>\n    <tr>\n      <th>3</th>\n      <td>4.0</td>\n      <td>2013-06-30</td>\n      <td>32.0</td>\n      <td>23.4</td>\n      <td>58.239788</td>\n      <td>96.483688</td>\n      <td>29.704629</td>\n      <td>23.326177</td>\n      <td>5.650050</td>\n      <td>65.727144</td>\n      <td>...</td>\n      <td>0.0</td>\n      <td>0.0</td>\n      <td>0.0</td>\n      <td>37.6450</td>\n      <td>127.022</td>\n      <td>45.7160</td>\n      <td>2.5348</td>\n      <td>5856.964844</td>\n      <td>31.7</td>\n      <td>24.3</td>\n    </tr>\n    <tr>\n      <th>4</th>\n      <td>5.0</td>\n      <td>2013-06-30</td>\n      <td>31.4</td>\n      <td>21.9</td>\n      <td>56.174095</td>\n      <td>90.155128</td>\n      <td>29.113934</td>\n      <td>23.486480</td>\n      <td>5.735004</td>\n      <td>107.965535</td>\n      <td>...</td>\n      <td>0.0</td>\n      <td>0.0</td>\n      <td>0.0</td>\n      <td>37.5507</td>\n      <td>127.135</td>\n      <td>35.0380</td>\n      <td>0.5055</td>\n      <td>5859.552246</td>\n      <td>31.2</td>\n      <td>22.5</td>\n    </tr>\n  </tbody>\n</table>\n<p>5 rows × 25 columns</p>\n</div>"
     },
     "execution_count": 11,
     "metadata": {},
     "output_type": "execute_result"
    }
   ],
   "source": [
    "df = pd.read_csv('Bias_correction_ucl.csv')\n",
    "df['Date'] = pd.to_datetime(df['Date'])\n",
    "df.head()"
   ],
   "metadata": {
    "collapsed": false,
    "ExecuteTime": {
     "start_time": "2023-04-22T13:47:38.281860Z",
     "end_time": "2023-04-22T13:47:38.348857Z"
    }
   }
  },
  {
   "cell_type": "code",
   "execution_count": 12,
   "outputs": [
    {
     "data": {
      "text/plain": "      year_2013.0  year_2014.0  year_2015.0  year_2016.0  year_2017.0\n0               1            0            0            0            0\n1               1            0            0            0            0\n2               1            0            0            0            0\n3               1            0            0            0            0\n4               1            0            0            0            0\n...           ...          ...          ...          ...          ...\n7747            0            0            0            0            1\n7748            0            0            0            0            1\n7749            0            0            0            0            1\n7750            0            0            0            0            0\n7751            0            0            0            0            0\n\n[7752 rows x 5 columns]",
      "text/html": "<div>\n<style scoped>\n    .dataframe tbody tr th:only-of-type {\n        vertical-align: middle;\n    }\n\n    .dataframe tbody tr th {\n        vertical-align: top;\n    }\n\n    .dataframe thead th {\n        text-align: right;\n    }\n</style>\n<table border=\"1\" class=\"dataframe\">\n  <thead>\n    <tr style=\"text-align: right;\">\n      <th></th>\n      <th>year_2013.0</th>\n      <th>year_2014.0</th>\n      <th>year_2015.0</th>\n      <th>year_2016.0</th>\n      <th>year_2017.0</th>\n    </tr>\n  </thead>\n  <tbody>\n    <tr>\n      <th>0</th>\n      <td>1</td>\n      <td>0</td>\n      <td>0</td>\n      <td>0</td>\n      <td>0</td>\n    </tr>\n    <tr>\n      <th>1</th>\n      <td>1</td>\n      <td>0</td>\n      <td>0</td>\n      <td>0</td>\n      <td>0</td>\n    </tr>\n    <tr>\n      <th>2</th>\n      <td>1</td>\n      <td>0</td>\n      <td>0</td>\n      <td>0</td>\n      <td>0</td>\n    </tr>\n    <tr>\n      <th>3</th>\n      <td>1</td>\n      <td>0</td>\n      <td>0</td>\n      <td>0</td>\n      <td>0</td>\n    </tr>\n    <tr>\n      <th>4</th>\n      <td>1</td>\n      <td>0</td>\n      <td>0</td>\n      <td>0</td>\n      <td>0</td>\n    </tr>\n    <tr>\n      <th>...</th>\n      <td>...</td>\n      <td>...</td>\n      <td>...</td>\n      <td>...</td>\n      <td>...</td>\n    </tr>\n    <tr>\n      <th>7747</th>\n      <td>0</td>\n      <td>0</td>\n      <td>0</td>\n      <td>0</td>\n      <td>1</td>\n    </tr>\n    <tr>\n      <th>7748</th>\n      <td>0</td>\n      <td>0</td>\n      <td>0</td>\n      <td>0</td>\n      <td>1</td>\n    </tr>\n    <tr>\n      <th>7749</th>\n      <td>0</td>\n      <td>0</td>\n      <td>0</td>\n      <td>0</td>\n      <td>1</td>\n    </tr>\n    <tr>\n      <th>7750</th>\n      <td>0</td>\n      <td>0</td>\n      <td>0</td>\n      <td>0</td>\n      <td>0</td>\n    </tr>\n    <tr>\n      <th>7751</th>\n      <td>0</td>\n      <td>0</td>\n      <td>0</td>\n      <td>0</td>\n      <td>0</td>\n    </tr>\n  </tbody>\n</table>\n<p>7752 rows × 5 columns</p>\n</div>"
     },
     "execution_count": 12,
     "metadata": {},
     "output_type": "execute_result"
    }
   ],
   "source": [
    "year_dummies = pd.get_dummies(df['Date'].dt.year, prefix='year')\n",
    "year_dummies"
   ],
   "metadata": {
    "collapsed": false,
    "ExecuteTime": {
     "start_time": "2023-04-22T13:48:24.461866Z",
     "end_time": "2023-04-22T13:48:24.488867Z"
    }
   }
  },
  {
   "cell_type": "code",
   "execution_count": 13,
   "outputs": [
    {
     "data": {
      "text/plain": "      month_6.0  month_7.0  month_8.0\n0             1          0          0\n1             1          0          0\n2             1          0          0\n3             1          0          0\n4             1          0          0\n...         ...        ...        ...\n7747          0          0          1\n7748          0          0          1\n7749          0          0          1\n7750          0          0          0\n7751          0          0          0\n\n[7752 rows x 3 columns]",
      "text/html": "<div>\n<style scoped>\n    .dataframe tbody tr th:only-of-type {\n        vertical-align: middle;\n    }\n\n    .dataframe tbody tr th {\n        vertical-align: top;\n    }\n\n    .dataframe thead th {\n        text-align: right;\n    }\n</style>\n<table border=\"1\" class=\"dataframe\">\n  <thead>\n    <tr style=\"text-align: right;\">\n      <th></th>\n      <th>month_6.0</th>\n      <th>month_7.0</th>\n      <th>month_8.0</th>\n    </tr>\n  </thead>\n  <tbody>\n    <tr>\n      <th>0</th>\n      <td>1</td>\n      <td>0</td>\n      <td>0</td>\n    </tr>\n    <tr>\n      <th>1</th>\n      <td>1</td>\n      <td>0</td>\n      <td>0</td>\n    </tr>\n    <tr>\n      <th>2</th>\n      <td>1</td>\n      <td>0</td>\n      <td>0</td>\n    </tr>\n    <tr>\n      <th>3</th>\n      <td>1</td>\n      <td>0</td>\n      <td>0</td>\n    </tr>\n    <tr>\n      <th>4</th>\n      <td>1</td>\n      <td>0</td>\n      <td>0</td>\n    </tr>\n    <tr>\n      <th>...</th>\n      <td>...</td>\n      <td>...</td>\n      <td>...</td>\n    </tr>\n    <tr>\n      <th>7747</th>\n      <td>0</td>\n      <td>0</td>\n      <td>1</td>\n    </tr>\n    <tr>\n      <th>7748</th>\n      <td>0</td>\n      <td>0</td>\n      <td>1</td>\n    </tr>\n    <tr>\n      <th>7749</th>\n      <td>0</td>\n      <td>0</td>\n      <td>1</td>\n    </tr>\n    <tr>\n      <th>7750</th>\n      <td>0</td>\n      <td>0</td>\n      <td>0</td>\n    </tr>\n    <tr>\n      <th>7751</th>\n      <td>0</td>\n      <td>0</td>\n      <td>0</td>\n    </tr>\n  </tbody>\n</table>\n<p>7752 rows × 3 columns</p>\n</div>"
     },
     "execution_count": 13,
     "metadata": {},
     "output_type": "execute_result"
    }
   ],
   "source": [
    "month_dummies = pd.get_dummies(df['Date'].dt.month, prefix='month')\n",
    "month_dummies"
   ],
   "metadata": {
    "collapsed": false,
    "ExecuteTime": {
     "start_time": "2023-04-22T13:49:02.843229Z",
     "end_time": "2023-04-22T13:49:02.856228Z"
    }
   }
  },
  {
   "cell_type": "code",
   "execution_count": 14,
   "outputs": [
    {
     "data": {
      "text/plain": "   station       Date  Present_Tmax  Present_Tmin  LDAPS_RHmin  LDAPS_RHmax  \\\n0      1.0 2013-06-30          28.7          21.4    58.255688    91.116364   \n1      2.0 2013-06-30          31.9          21.6    52.263397    90.604721   \n2      3.0 2013-06-30          31.6          23.3    48.690479    83.973587   \n3      4.0 2013-06-30          32.0          23.4    58.239788    96.483688   \n4      5.0 2013-06-30          31.4          21.9    56.174095    90.155128   \n\n   LDAPS_Tmax_lapse  LDAPS_Tmin_lapse  LDAPS_WS    LDAPS_LH  ...  Next_Tmax  \\\n0         28.074101         23.006936  6.818887   69.451805  ...       29.1   \n1         29.850689         24.035009  5.691890   51.937448  ...       30.5   \n2         30.091292         24.565633  6.138224   20.573050  ...       31.1   \n3         29.704629         23.326177  5.650050   65.727144  ...       31.7   \n4         29.113934         23.486480  5.735004  107.965535  ...       31.2   \n\n   Next_Tmin  month_6.0  month_7.0  month_8.0  year_2013.0  year_2014.0  \\\n0       21.2          1          0          0            1            0   \n1       22.5          1          0          0            1            0   \n2       23.9          1          0          0            1            0   \n3       24.3          1          0          0            1            0   \n4       22.5          1          0          0            1            0   \n\n   year_2015.0  year_2016.0  year_2017.0  \n0            0            0            0  \n1            0            0            0  \n2            0            0            0  \n3            0            0            0  \n4            0            0            0  \n\n[5 rows x 33 columns]",
      "text/html": "<div>\n<style scoped>\n    .dataframe tbody tr th:only-of-type {\n        vertical-align: middle;\n    }\n\n    .dataframe tbody tr th {\n        vertical-align: top;\n    }\n\n    .dataframe thead th {\n        text-align: right;\n    }\n</style>\n<table border=\"1\" class=\"dataframe\">\n  <thead>\n    <tr style=\"text-align: right;\">\n      <th></th>\n      <th>station</th>\n      <th>Date</th>\n      <th>Present_Tmax</th>\n      <th>Present_Tmin</th>\n      <th>LDAPS_RHmin</th>\n      <th>LDAPS_RHmax</th>\n      <th>LDAPS_Tmax_lapse</th>\n      <th>LDAPS_Tmin_lapse</th>\n      <th>LDAPS_WS</th>\n      <th>LDAPS_LH</th>\n      <th>...</th>\n      <th>Next_Tmax</th>\n      <th>Next_Tmin</th>\n      <th>month_6.0</th>\n      <th>month_7.0</th>\n      <th>month_8.0</th>\n      <th>year_2013.0</th>\n      <th>year_2014.0</th>\n      <th>year_2015.0</th>\n      <th>year_2016.0</th>\n      <th>year_2017.0</th>\n    </tr>\n  </thead>\n  <tbody>\n    <tr>\n      <th>0</th>\n      <td>1.0</td>\n      <td>2013-06-30</td>\n      <td>28.7</td>\n      <td>21.4</td>\n      <td>58.255688</td>\n      <td>91.116364</td>\n      <td>28.074101</td>\n      <td>23.006936</td>\n      <td>6.818887</td>\n      <td>69.451805</td>\n      <td>...</td>\n      <td>29.1</td>\n      <td>21.2</td>\n      <td>1</td>\n      <td>0</td>\n      <td>0</td>\n      <td>1</td>\n      <td>0</td>\n      <td>0</td>\n      <td>0</td>\n      <td>0</td>\n    </tr>\n    <tr>\n      <th>1</th>\n      <td>2.0</td>\n      <td>2013-06-30</td>\n      <td>31.9</td>\n      <td>21.6</td>\n      <td>52.263397</td>\n      <td>90.604721</td>\n      <td>29.850689</td>\n      <td>24.035009</td>\n      <td>5.691890</td>\n      <td>51.937448</td>\n      <td>...</td>\n      <td>30.5</td>\n      <td>22.5</td>\n      <td>1</td>\n      <td>0</td>\n      <td>0</td>\n      <td>1</td>\n      <td>0</td>\n      <td>0</td>\n      <td>0</td>\n      <td>0</td>\n    </tr>\n    <tr>\n      <th>2</th>\n      <td>3.0</td>\n      <td>2013-06-30</td>\n      <td>31.6</td>\n      <td>23.3</td>\n      <td>48.690479</td>\n      <td>83.973587</td>\n      <td>30.091292</td>\n      <td>24.565633</td>\n      <td>6.138224</td>\n      <td>20.573050</td>\n      <td>...</td>\n      <td>31.1</td>\n      <td>23.9</td>\n      <td>1</td>\n      <td>0</td>\n      <td>0</td>\n      <td>1</td>\n      <td>0</td>\n      <td>0</td>\n      <td>0</td>\n      <td>0</td>\n    </tr>\n    <tr>\n      <th>3</th>\n      <td>4.0</td>\n      <td>2013-06-30</td>\n      <td>32.0</td>\n      <td>23.4</td>\n      <td>58.239788</td>\n      <td>96.483688</td>\n      <td>29.704629</td>\n      <td>23.326177</td>\n      <td>5.650050</td>\n      <td>65.727144</td>\n      <td>...</td>\n      <td>31.7</td>\n      <td>24.3</td>\n      <td>1</td>\n      <td>0</td>\n      <td>0</td>\n      <td>1</td>\n      <td>0</td>\n      <td>0</td>\n      <td>0</td>\n      <td>0</td>\n    </tr>\n    <tr>\n      <th>4</th>\n      <td>5.0</td>\n      <td>2013-06-30</td>\n      <td>31.4</td>\n      <td>21.9</td>\n      <td>56.174095</td>\n      <td>90.155128</td>\n      <td>29.113934</td>\n      <td>23.486480</td>\n      <td>5.735004</td>\n      <td>107.965535</td>\n      <td>...</td>\n      <td>31.2</td>\n      <td>22.5</td>\n      <td>1</td>\n      <td>0</td>\n      <td>0</td>\n      <td>1</td>\n      <td>0</td>\n      <td>0</td>\n      <td>0</td>\n      <td>0</td>\n    </tr>\n  </tbody>\n</table>\n<p>5 rows × 33 columns</p>\n</div>"
     },
     "execution_count": 14,
     "metadata": {},
     "output_type": "execute_result"
    }
   ],
   "source": [
    "df =pd.concat([df, month_dummies, year_dummies], axis=1)\n",
    "df.head()"
   ],
   "metadata": {
    "collapsed": false,
    "ExecuteTime": {
     "start_time": "2023-04-22T13:49:36.457752Z",
     "end_time": "2023-04-22T13:49:36.485750Z"
    }
   }
  },
  {
   "cell_type": "code",
   "execution_count": 15,
   "outputs": [
    {
     "data": {
      "text/plain": "station             float64\nPresent_Tmax        float64\nPresent_Tmin        float64\nLDAPS_RHmin         float64\nLDAPS_RHmax         float64\nLDAPS_Tmax_lapse    float64\nLDAPS_Tmin_lapse    float64\nLDAPS_WS            float64\nLDAPS_LH            float64\nLDAPS_CC1           float64\nLDAPS_CC2           float64\nLDAPS_CC3           float64\nLDAPS_CC4           float64\nLDAPS_PPT1          float64\nLDAPS_PPT2          float64\nLDAPS_PPT3          float64\nLDAPS_PPT4          float64\nlat                 float64\nlon                 float64\nDEM                 float64\nSlope               float64\nSolar radiation     float64\nNext_Tmax           float64\nNext_Tmin           float64\nmonth_6.0             uint8\nmonth_7.0             uint8\nmonth_8.0             uint8\nyear_2013.0           uint8\nyear_2014.0           uint8\nyear_2015.0           uint8\nyear_2016.0           uint8\nyear_2017.0           uint8\ndtype: object"
     },
     "execution_count": 15,
     "metadata": {},
     "output_type": "execute_result"
    }
   ],
   "source": [
    "df.drop('Date', axis=1, inplace=True)\n",
    "df.dtypes"
   ],
   "metadata": {
    "collapsed": false,
    "ExecuteTime": {
     "start_time": "2023-04-22T13:50:15.752917Z",
     "end_time": "2023-04-22T13:50:15.762918Z"
    }
   }
  }
 ],
 "metadata": {
  "kernelspec": {
   "display_name": "Python 3",
   "language": "python",
   "name": "python3"
  },
  "language_info": {
   "codemirror_mode": {
    "name": "ipython",
    "version": 2
   },
   "file_extension": ".py",
   "mimetype": "text/x-python",
   "name": "python",
   "nbconvert_exporter": "python",
   "pygments_lexer": "ipython2",
   "version": "2.7.6"
  }
 },
 "nbformat": 4,
 "nbformat_minor": 0
}
