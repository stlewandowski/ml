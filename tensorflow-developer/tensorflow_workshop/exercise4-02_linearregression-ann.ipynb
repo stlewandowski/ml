{
 "cells": [
  {
   "cell_type": "code",
   "execution_count": 2,
   "metadata": {
    "collapsed": true,
    "ExecuteTime": {
     "end_time": "2023-06-24T19:40:17.724310800Z",
     "start_time": "2023-06-24T19:40:14.157071600Z"
    }
   },
   "outputs": [],
   "source": [
    "import tensorflow as tf\n",
    "import pandas as pd"
   ]
  },
  {
   "cell_type": "code",
   "execution_count": 3,
   "outputs": [
    {
     "data": {
      "text/plain": "   station        Date  Present_Tmax  Present_Tmin  LDAPS_RHmin  LDAPS_RHmax  \\\n0      1.0  2013-06-30          28.7          21.4    58.255688    91.116364   \n1      2.0  2013-06-30          31.9          21.6    52.263397    90.604721   \n2      3.0  2013-06-30          31.6          23.3    48.690479    83.973587   \n3      4.0  2013-06-30          32.0          23.4    58.239788    96.483688   \n4      5.0  2013-06-30          31.4          21.9    56.174095    90.155128   \n\n   LDAPS_Tmax_lapse  LDAPS_Tmin_lapse  LDAPS_WS    LDAPS_LH  ...  LDAPS_PPT2  \\\n0         28.074101         23.006936  6.818887   69.451805  ...         0.0   \n1         29.850689         24.035009  5.691890   51.937448  ...         0.0   \n2         30.091292         24.565633  6.138224   20.573050  ...         0.0   \n3         29.704629         23.326177  5.650050   65.727144  ...         0.0   \n4         29.113934         23.486480  5.735004  107.965535  ...         0.0   \n\n   LDAPS_PPT3  LDAPS_PPT4      lat      lon       DEM   Slope  \\\n0         0.0         0.0  37.6046  126.991  212.3350  2.7850   \n1         0.0         0.0  37.6046  127.032   44.7624  0.5141   \n2         0.0         0.0  37.5776  127.058   33.3068  0.2661   \n3         0.0         0.0  37.6450  127.022   45.7160  2.5348   \n4         0.0         0.0  37.5507  127.135   35.0380  0.5055   \n\n   Solar radiation  Next_Tmax  Next_Tmin  \n0      5992.895996       29.1       21.2  \n1      5869.312500       30.5       22.5  \n2      5863.555664       31.1       23.9  \n3      5856.964844       31.7       24.3  \n4      5859.552246       31.2       22.5  \n\n[5 rows x 25 columns]",
      "text/html": "<div>\n<style scoped>\n    .dataframe tbody tr th:only-of-type {\n        vertical-align: middle;\n    }\n\n    .dataframe tbody tr th {\n        vertical-align: top;\n    }\n\n    .dataframe thead th {\n        text-align: right;\n    }\n</style>\n<table border=\"1\" class=\"dataframe\">\n  <thead>\n    <tr style=\"text-align: right;\">\n      <th></th>\n      <th>station</th>\n      <th>Date</th>\n      <th>Present_Tmax</th>\n      <th>Present_Tmin</th>\n      <th>LDAPS_RHmin</th>\n      <th>LDAPS_RHmax</th>\n      <th>LDAPS_Tmax_lapse</th>\n      <th>LDAPS_Tmin_lapse</th>\n      <th>LDAPS_WS</th>\n      <th>LDAPS_LH</th>\n      <th>...</th>\n      <th>LDAPS_PPT2</th>\n      <th>LDAPS_PPT3</th>\n      <th>LDAPS_PPT4</th>\n      <th>lat</th>\n      <th>lon</th>\n      <th>DEM</th>\n      <th>Slope</th>\n      <th>Solar radiation</th>\n      <th>Next_Tmax</th>\n      <th>Next_Tmin</th>\n    </tr>\n  </thead>\n  <tbody>\n    <tr>\n      <th>0</th>\n      <td>1.0</td>\n      <td>2013-06-30</td>\n      <td>28.7</td>\n      <td>21.4</td>\n      <td>58.255688</td>\n      <td>91.116364</td>\n      <td>28.074101</td>\n      <td>23.006936</td>\n      <td>6.818887</td>\n      <td>69.451805</td>\n      <td>...</td>\n      <td>0.0</td>\n      <td>0.0</td>\n      <td>0.0</td>\n      <td>37.6046</td>\n      <td>126.991</td>\n      <td>212.3350</td>\n      <td>2.7850</td>\n      <td>5992.895996</td>\n      <td>29.1</td>\n      <td>21.2</td>\n    </tr>\n    <tr>\n      <th>1</th>\n      <td>2.0</td>\n      <td>2013-06-30</td>\n      <td>31.9</td>\n      <td>21.6</td>\n      <td>52.263397</td>\n      <td>90.604721</td>\n      <td>29.850689</td>\n      <td>24.035009</td>\n      <td>5.691890</td>\n      <td>51.937448</td>\n      <td>...</td>\n      <td>0.0</td>\n      <td>0.0</td>\n      <td>0.0</td>\n      <td>37.6046</td>\n      <td>127.032</td>\n      <td>44.7624</td>\n      <td>0.5141</td>\n      <td>5869.312500</td>\n      <td>30.5</td>\n      <td>22.5</td>\n    </tr>\n    <tr>\n      <th>2</th>\n      <td>3.0</td>\n      <td>2013-06-30</td>\n      <td>31.6</td>\n      <td>23.3</td>\n      <td>48.690479</td>\n      <td>83.973587</td>\n      <td>30.091292</td>\n      <td>24.565633</td>\n      <td>6.138224</td>\n      <td>20.573050</td>\n      <td>...</td>\n      <td>0.0</td>\n      <td>0.0</td>\n      <td>0.0</td>\n      <td>37.5776</td>\n      <td>127.058</td>\n      <td>33.3068</td>\n      <td>0.2661</td>\n      <td>5863.555664</td>\n      <td>31.1</td>\n      <td>23.9</td>\n    </tr>\n    <tr>\n      <th>3</th>\n      <td>4.0</td>\n      <td>2013-06-30</td>\n      <td>32.0</td>\n      <td>23.4</td>\n      <td>58.239788</td>\n      <td>96.483688</td>\n      <td>29.704629</td>\n      <td>23.326177</td>\n      <td>5.650050</td>\n      <td>65.727144</td>\n      <td>...</td>\n      <td>0.0</td>\n      <td>0.0</td>\n      <td>0.0</td>\n      <td>37.6450</td>\n      <td>127.022</td>\n      <td>45.7160</td>\n      <td>2.5348</td>\n      <td>5856.964844</td>\n      <td>31.7</td>\n      <td>24.3</td>\n    </tr>\n    <tr>\n      <th>4</th>\n      <td>5.0</td>\n      <td>2013-06-30</td>\n      <td>31.4</td>\n      <td>21.9</td>\n      <td>56.174095</td>\n      <td>90.155128</td>\n      <td>29.113934</td>\n      <td>23.486480</td>\n      <td>5.735004</td>\n      <td>107.965535</td>\n      <td>...</td>\n      <td>0.0</td>\n      <td>0.0</td>\n      <td>0.0</td>\n      <td>37.5507</td>\n      <td>127.135</td>\n      <td>35.0380</td>\n      <td>0.5055</td>\n      <td>5859.552246</td>\n      <td>31.2</td>\n      <td>22.5</td>\n    </tr>\n  </tbody>\n</table>\n<p>5 rows × 25 columns</p>\n</div>"
     },
     "execution_count": 3,
     "metadata": {},
     "output_type": "execute_result"
    }
   ],
   "source": [
    "df = pd.read_csv('Bias_correction_ucl.csv')\n",
    "df.head()"
   ],
   "metadata": {
    "collapsed": false,
    "ExecuteTime": {
     "end_time": "2023-06-24T19:40:17.771290800Z",
     "start_time": "2023-06-24T19:40:17.725310200Z"
    }
   }
  },
  {
   "cell_type": "code",
   "execution_count": 4,
   "outputs": [],
   "source": [
    "df.drop('Date', inplace=True, axis=1)\n",
    "df.dropna(inplace=True)"
   ],
   "metadata": {
    "collapsed": false,
    "ExecuteTime": {
     "end_time": "2023-06-24T19:40:17.779688400Z",
     "start_time": "2023-06-24T19:40:17.774291200Z"
    }
   }
  },
  {
   "cell_type": "code",
   "execution_count": 5,
   "outputs": [],
   "source": [
    "target = df[['Next_Tmax', 'Next_Tmin']]\n",
    "features = df.drop(['Next_Tmax', 'Next_Tmin'], axis=1)"
   ],
   "metadata": {
    "collapsed": false,
    "ExecuteTime": {
     "end_time": "2023-06-24T19:40:17.787320100Z",
     "start_time": "2023-06-24T19:40:17.780689Z"
    }
   }
  },
  {
   "cell_type": "code",
   "execution_count": 6,
   "outputs": [],
   "source": [
    "from sklearn.preprocessing import MinMaxScaler\n",
    "scaler = MinMaxScaler()\n",
    "feature_array = scaler.fit_transform(features)\n",
    "features = pd.DataFrame(feature_array, columns=features.columns)\n"
   ],
   "metadata": {
    "collapsed": false,
    "ExecuteTime": {
     "end_time": "2023-06-24T19:41:08.375132100Z",
     "start_time": "2023-06-24T19:41:08.030419200Z"
    }
   }
  },
  {
   "cell_type": "code",
   "execution_count": 7,
   "outputs": [],
   "source": [
    "model = tf.keras.models.Sequential([\n",
    "    tf.keras.layers.InputLayer(input_shape=(features.shape[1],), name='Input_layer'),\n",
    "    tf.keras.layers.Dense(2, name='Output_layer')\n",
    "])\n",
    "model.compile(optimizer=tf.optimizers.RMSprop(0.001), loss='mse')\n"
   ],
   "metadata": {
    "collapsed": false,
    "ExecuteTime": {
     "end_time": "2023-06-24T19:43:19.673805700Z",
     "start_time": "2023-06-24T19:43:19.613433600Z"
    }
   }
  },
  {
   "cell_type": "code",
   "execution_count": 8,
   "outputs": [],
   "source": [
    "tensorboard_callback = tf.keras.callbacks.TensorBoard(log_dir='logs')\n"
   ],
   "metadata": {
    "collapsed": false,
    "ExecuteTime": {
     "end_time": "2023-06-24T19:44:06.334585Z",
     "start_time": "2023-06-24T19:44:06.334080700Z"
    }
   }
  },
  {
   "cell_type": "code",
   "execution_count": 9,
   "outputs": [
    {
     "name": "stdout",
     "output_type": "stream",
     "text": [
      "Epoch 1/50\n",
      "238/238 [==============================] - 0s 780us/step - loss: 657.6071\n",
      "Epoch 2/50\n",
      "238/238 [==============================] - 0s 673us/step - loss: 554.0065\n",
      "Epoch 3/50\n",
      "238/238 [==============================] - 0s 719us/step - loss: 460.0425\n",
      "Epoch 4/50\n",
      "238/238 [==============================] - 0s 739us/step - loss: 375.6638\n",
      "Epoch 5/50\n",
      "238/238 [==============================] - 0s 742us/step - loss: 300.7936\n",
      "Epoch 6/50\n",
      "238/238 [==============================] - 0s 698us/step - loss: 235.6287\n",
      "Epoch 7/50\n",
      "238/238 [==============================] - 0s 675us/step - loss: 179.9303\n",
      "Epoch 8/50\n",
      "238/238 [==============================] - 0s 743us/step - loss: 133.8139\n",
      "Epoch 9/50\n",
      "238/238 [==============================] - 0s 734us/step - loss: 97.2392\n",
      "Epoch 10/50\n",
      "238/238 [==============================] - 0s 674us/step - loss: 70.1220\n",
      "Epoch 11/50\n",
      "238/238 [==============================] - 0s 740us/step - loss: 51.0315\n",
      "Epoch 12/50\n",
      "238/238 [==============================] - 0s 738us/step - loss: 37.8852\n",
      "Epoch 13/50\n",
      "238/238 [==============================] - 0s 741us/step - loss: 29.2829\n",
      "Epoch 14/50\n",
      "238/238 [==============================] - 0s 739us/step - loss: 24.3367\n",
      "Epoch 15/50\n",
      "238/238 [==============================] - 0s 805us/step - loss: 21.3065\n",
      "Epoch 16/50\n",
      "238/238 [==============================] - 0s 742us/step - loss: 19.1425\n",
      "Epoch 17/50\n",
      "238/238 [==============================] - 0s 673us/step - loss: 17.2940\n",
      "Epoch 18/50\n",
      "238/238 [==============================] - 0s 765us/step - loss: 15.6381\n",
      "Epoch 19/50\n",
      "238/238 [==============================] - 0s 675us/step - loss: 14.1974\n",
      "Epoch 20/50\n",
      "238/238 [==============================] - 0s 746us/step - loss: 12.9273\n",
      "Epoch 21/50\n",
      "238/238 [==============================] - 0s 742us/step - loss: 11.7586\n",
      "Epoch 22/50\n",
      "238/238 [==============================] - 0s 673us/step - loss: 10.6820\n",
      "Epoch 23/50\n",
      "238/238 [==============================] - 0s 675us/step - loss: 9.7345\n",
      "Epoch 24/50\n",
      "238/238 [==============================] - 0s 744us/step - loss: 8.9153\n",
      "Epoch 25/50\n",
      "238/238 [==============================] - 0s 742us/step - loss: 8.1864\n",
      "Epoch 26/50\n",
      "238/238 [==============================] - 0s 737us/step - loss: 7.5347\n",
      "Epoch 27/50\n",
      "238/238 [==============================] - 0s 744us/step - loss: 6.9487\n",
      "Epoch 28/50\n",
      "238/238 [==============================] - 0s 673us/step - loss: 6.4341\n",
      "Epoch 29/50\n",
      "238/238 [==============================] - 0s 676us/step - loss: 6.0025\n",
      "Epoch 30/50\n",
      "238/238 [==============================] - 0s 764us/step - loss: 5.6514\n",
      "Epoch 31/50\n",
      "238/238 [==============================] - 0s 739us/step - loss: 5.3607\n",
      "Epoch 32/50\n",
      "238/238 [==============================] - 0s 675us/step - loss: 5.1094\n",
      "Epoch 33/50\n",
      "238/238 [==============================] - 0s 669us/step - loss: 4.9024\n",
      "Epoch 34/50\n",
      "238/238 [==============================] - 0s 739us/step - loss: 4.7294\n",
      "Epoch 35/50\n",
      "238/238 [==============================] - 0s 678us/step - loss: 4.5896\n",
      "Epoch 36/50\n",
      "238/238 [==============================] - 0s 739us/step - loss: 4.4739\n",
      "Epoch 37/50\n",
      "238/238 [==============================] - 0s 738us/step - loss: 4.3729\n",
      "Epoch 38/50\n",
      "238/238 [==============================] - 0s 678us/step - loss: 4.2852\n",
      "Epoch 39/50\n",
      "238/238 [==============================] - 0s 743us/step - loss: 4.2002\n",
      "Epoch 40/50\n",
      "238/238 [==============================] - 0s 739us/step - loss: 4.1272\n",
      "Epoch 41/50\n",
      "238/238 [==============================] - 0s 740us/step - loss: 4.0574\n",
      "Epoch 42/50\n",
      "238/238 [==============================] - 0s 740us/step - loss: 3.9956\n",
      "Epoch 43/50\n",
      "238/238 [==============================] - 0s 1ms/step - loss: 3.9378\n",
      "Epoch 44/50\n",
      "238/238 [==============================] - 0s 695us/step - loss: 3.8825\n",
      "Epoch 45/50\n",
      "238/238 [==============================] - 0s 1ms/step - loss: 3.8265\n",
      "Epoch 46/50\n",
      "238/238 [==============================] - 0s 732us/step - loss: 3.7757\n",
      "Epoch 47/50\n",
      "238/238 [==============================] - 0s 694us/step - loss: 3.7265\n",
      "Epoch 48/50\n",
      "238/238 [==============================] - 0s 675us/step - loss: 3.6786\n",
      "Epoch 49/50\n",
      "238/238 [==============================] - 0s 672us/step - loss: 3.6339\n",
      "Epoch 50/50\n",
      "238/238 [==============================] - 0s 735us/step - loss: 3.5903\n"
     ]
    },
    {
     "data": {
      "text/plain": "<keras.callbacks.History at 0x21d11bf4110>"
     },
     "execution_count": 9,
     "metadata": {},
     "output_type": "execute_result"
    }
   ],
   "source": [
    "model.fit(x=features.to_numpy(), y=target.to_numpy(), epochs=50, callbacks=[tensorboard_callback])"
   ],
   "metadata": {
    "collapsed": false,
    "ExecuteTime": {
     "end_time": "2023-06-24T19:44:48.742141600Z",
     "start_time": "2023-06-24T19:44:39.555095600Z"
    }
   }
  },
  {
   "cell_type": "code",
   "execution_count": 10,
   "outputs": [
    {
     "name": "stdout",
     "output_type": "stream",
     "text": [
      "238/238 [==============================] - 0s 534us/step - loss: 3.5678\n",
      "loss:  3.5678293704986572\n"
     ]
    }
   ],
   "source": [
    "loss = model.evaluate(features.to_numpy(), target.to_numpy())\n",
    "print('loss: ', loss)"
   ],
   "metadata": {
    "collapsed": false,
    "ExecuteTime": {
     "end_time": "2023-06-24T19:45:16.515850Z",
     "start_time": "2023-06-24T19:45:16.244777900Z"
    }
   }
  },
  {
   "cell_type": "code",
   "execution_count": null,
   "outputs": [],
   "source": [
    "# tensorboard --logdir=.\\tensorflow-developer\\tensorflow_workshop\\logs"
   ],
   "metadata": {
    "collapsed": false
   }
  }
 ],
 "metadata": {
  "kernelspec": {
   "display_name": "Python 3",
   "language": "python",
   "name": "python3"
  },
  "language_info": {
   "codemirror_mode": {
    "name": "ipython",
    "version": 2
   },
   "file_extension": ".py",
   "mimetype": "text/x-python",
   "name": "python",
   "nbconvert_exporter": "python",
   "pygments_lexer": "ipython2",
   "version": "2.7.6"
  }
 },
 "nbformat": 4,
 "nbformat_minor": 0
}
