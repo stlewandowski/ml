{
 "cells": [
  {
   "cell_type": "code",
   "execution_count": 1,
   "metadata": {
    "collapsed": true,
    "ExecuteTime": {
     "start_time": "2023-05-06T10:37:24.374736Z",
     "end_time": "2023-05-06T10:37:27.643715Z"
    }
   },
   "outputs": [],
   "source": [
    "import tensorflow as tf\n"
   ]
  },
  {
   "cell_type": "code",
   "execution_count": 2,
   "outputs": [],
   "source": [
    "df = tf.data.experimental.make_csv_dataset('drugsComTrain_raw.tsv',\n",
    "                                           batch_size=1, field_delim='\\t')\n"
   ],
   "metadata": {
    "collapsed": false,
    "ExecuteTime": {
     "start_time": "2023-05-06T10:38:44.611334Z",
     "end_time": "2023-05-06T10:38:46.830306Z"
    }
   }
  },
  {
   "cell_type": "code",
   "execution_count": 3,
   "outputs": [],
   "source": [
    "def prep_ds(ds, shuffle_buffer_size=1024, batch_size=32):\n",
    "    # shuffle the dataset\n",
    "    df = ds.shuffle(buffer_size=shuffle_buffer_size)\n",
    "    # repeat the dataset\n",
    "    ds = ds.repeat()\n",
    "    # batch the dataset\n",
    "    ds = ds.batch(batch_size)\n",
    "    return ds\n"
   ],
   "metadata": {
    "collapsed": false,
    "ExecuteTime": {
     "start_time": "2023-05-06T10:41:19.489498Z",
     "end_time": "2023-05-06T10:41:19.500496Z"
    }
   }
  },
  {
   "cell_type": "code",
   "execution_count": 4,
   "outputs": [],
   "source": [
    "ds = prep_ds(df, batch_size=5)"
   ],
   "metadata": {
    "collapsed": false,
    "ExecuteTime": {
     "start_time": "2023-05-06T10:41:43.057636Z",
     "end_time": "2023-05-06T10:41:43.087634Z"
    }
   }
  },
  {
   "cell_type": "code",
   "execution_count": 5,
   "outputs": [
    {
     "name": "stdout",
     "output_type": "stream",
     "text": [
      "OrderedDict([('', <tf.Tensor: shape=(5, 1), dtype=int32, numpy=\n",
      "array([[179192],\n",
      "       [103308],\n",
      "       [  6418],\n",
      "       [114953],\n",
      "       [171984]])>), ('drugName', <tf.Tensor: shape=(5, 1), dtype=string, numpy=\n",
      "array([[b'Olanzapine'],\n",
      "       [b'Celecoxib'],\n",
      "       [b'Ocella'],\n",
      "       [b'Diazepam'],\n",
      "       [b'Meloxicam']], dtype=object)>), ('condition', <tf.Tensor: shape=(5, 1), dtype=string, numpy=\n",
      "array([[b'Schizoaffective Disorde'],\n",
      "       [b'Osteoarthritis'],\n",
      "       [b'Birth Control'],\n",
      "       [b'Anxiety'],\n",
      "       [b'ibromyalgia']], dtype=object)>), ('review', <tf.Tensor: shape=(5, 1), dtype=string, numpy=\n",
      "array([[b'\"I have used this medication for around two years. It Is very good with helping Schizoid Type Thoughts however i would not recommend the medication as a long term medication due to weight gain and its ability to affect whether or not you can wake up in the morning. It has a tendency to make me fall asleep for two days straight. \\r\\r\\n\\r\\r\\nFrom - Adult Male who has had sleep cycle problems from a young age.\"'],\n",
      "       [b'\"I take Celebrex when I&#039;m really in pain with my arthritis, works very well. Scared of the side effects of irregular heart beat as I have a heart murmur. I have had none so far. Really good medication if you&#039;re in pain.\"'],\n",
      "       [b'\"20 yr old, been on Ocella for over a year.  Just today switched to Apri, Ocella made me gain weight and go up a bra size.  I went from a heavy long period with no pain to an extremely painful short period - not worth it.  This pill also made me moody and depressed.\"'],\n",
      "       [b'\"Valium/is a life saver. INSTANT calming from anxiety,  depression.  Put the tablet under your tongue .. immediately  released into your system. ADDICTED? So what?,  it works .. no different than HAVING TO TAKE HEART MEDS for the rest of my life. I&#039;m not addicted to them .. they keep me alive. Valium  keeps me sane and prevents depression &amp; anxiety. .. difference ?..NONE .. Feel the same way about Ambian. Sleep disorders  my entire life... age 50  Dr recommended. Now really get a GOOD NIGHT DEEP SLEEP .. totally rested in the morning instead of tired.  ADDICTED  ... yup .. same same as Valium ... my body responds positively  ... so who cares if it is an addiction  .. it works for the purpose intended. And I am healthier &amp; happier.\"'],\n",
      "       [b'\"It worked okay for my back pains, but during the time that I first started taking it I got a really bad sore throat and if it wasn%u2019t for Mobic, I would not have been able to get out of bed.  My throat felt so bad that I could hardly talk or eat and drink, but after taking the Mobic, it took the pain away for about 3 to 4 hours before I had to take another.  Therefore, if you have a bad sore throat or any inflammatory conditions try Mobic to see if it helps.\"']],\n",
      "      dtype=object)>), ('rating', <tf.Tensor: shape=(5, 1), dtype=float32, numpy=\n",
      "array([[ 5.],\n",
      "       [ 7.],\n",
      "       [ 7.],\n",
      "       [10.],\n",
      "       [ 7.]], dtype=float32)>), ('date', <tf.Tensor: shape=(5, 1), dtype=string, numpy=\n",
      "array([[b'September 16, 2016'],\n",
      "       [b'October 2, 2014'],\n",
      "       [b'January 6, 2012'],\n",
      "       [b'February 16, 2016'],\n",
      "       [b'July 28, 2009']], dtype=object)>), ('usefulCount', <tf.Tensor: shape=(5, 1), dtype=int32, numpy=\n",
      "array([[  3],\n",
      "       [  3],\n",
      "       [  1],\n",
      "       [114],\n",
      "       [ 29]])>)])\n"
     ]
    }
   ],
   "source": [
    "for x in ds.take(1):\n",
    "    print(x)"
   ],
   "metadata": {
    "collapsed": false,
    "ExecuteTime": {
     "start_time": "2023-05-06T10:42:02.429008Z",
     "end_time": "2023-05-06T10:42:02.623004Z"
    }
   }
  },
  {
   "cell_type": "code",
   "execution_count": 6,
   "outputs": [
    {
     "name": "stdout",
     "output_type": "stream",
     "text": [
      "WARNING:tensorflow:Please fix your imports. Module tensorflow.python.training.tracking.data_structures has been moved to tensorflow.python.trackable.data_structures. The old module will be deleted in version 2.11.\n"
     ]
    }
   ],
   "source": [
    "import tensorflow_hub as hub\n",
    "embedding = \"https://tfhub.dev/google/tf2-preview/gnews-swivel-20dim/1\"\n",
    "hub_layer = hub.KerasLayer(embedding, input_shape=[], dtype=tf.string, trainable=True)\n"
   ],
   "metadata": {
    "collapsed": false,
    "ExecuteTime": {
     "start_time": "2023-05-06T10:45:52.050227Z",
     "end_time": "2023-05-06T10:45:53.147442Z"
    }
   }
  },
  {
   "cell_type": "code",
   "execution_count": 7,
   "outputs": [
    {
     "name": "stdout",
     "output_type": "stream",
     "text": [
      "tf.Tensor(\n",
      "[[ 4.7236526e-01 -3.7830012e+00  7.5368166e-01  1.3165244e+00\n",
      "  -2.6019814e+00 -4.5250230e+00 -2.8416398e+00  1.3278745e+00\n",
      "   3.2640491e+00  2.2648478e-01 -1.8199880e+00  2.3640738e+00\n",
      "   5.9722906e-01  1.1873682e+00 -5.4386458e+00  3.6466916e+00\n",
      "   3.5637581e+00 -4.3614302e+00 -2.6346319e+00 -1.2079631e+00]\n",
      " [-2.6543397e-01 -1.6079483e+00 -4.5786725e-05  2.8694639e-01\n",
      "  -4.5297688e-01 -4.7150311e+00 -3.5185704e+00 -7.2849977e-01\n",
      "  -2.5209707e-01 -1.5049562e+00 -1.4764192e+00  3.7190340e+00\n",
      "   1.5046980e+00 -1.4262709e-01 -3.1497161e+00  2.6290543e+00\n",
      "   1.8439178e+00 -2.8899231e+00 -2.6620418e-01 -7.5190341e-01]\n",
      " [ 1.2163694e+00 -1.3188944e+00  1.2792206e+00  6.8698460e-01\n",
      "  -9.3437180e-02 -2.7210875e+00 -1.6216682e+00  1.4645144e+00\n",
      "   1.0519783e+00 -1.0184649e+00  3.7752774e-01  1.6924906e+00\n",
      "   4.9311638e-01 -4.6826359e-02 -1.5866463e+00  1.2172081e+00\n",
      "   1.7213893e+00 -1.6909559e+00 -6.9943830e-02 -1.3531902e+00]\n",
      " [ 6.8641776e-01 -1.8642155e+00 -6.0622171e-02  1.5314636e-01\n",
      "  -1.3479722e+00 -1.6822782e+00 -1.5718961e+00  1.0261158e+00\n",
      "   1.3754084e+00  2.5391612e-02 -8.8204300e-01  1.6170888e+00\n",
      "   3.8317087e-01 -2.9859357e-02 -2.1016574e+00  1.1481811e+00\n",
      "   1.2347497e+00 -1.3177205e+00 -8.2228285e-01 -9.7276986e-01]\n",
      " [ 1.7501912e+00 -1.2557428e+00  2.8419182e-01 -1.3655899e-01\n",
      "  -1.2663455e+00 -1.1850719e+00 -5.3102946e-01  1.1805680e+00\n",
      "   1.0628016e+00 -1.0083241e+00 -9.4704264e-01  1.7102079e+00\n",
      "   7.3545367e-01 -4.7076812e-01 -1.8653390e+00  4.9386102e-01\n",
      "   2.2819304e+00  3.3014663e-02 -1.1874280e+00 -6.9043368e-01]], shape=(5, 20), dtype=float32)\n"
     ]
    }
   ],
   "source": [
    "for x in ds.take(1):\n",
    "    print(hub_layer(tf.reshape(x['review'], [-1])))"
   ],
   "metadata": {
    "collapsed": false,
    "ExecuteTime": {
     "start_time": "2023-05-06T10:46:53.422111Z",
     "end_time": "2023-05-06T10:46:53.634110Z"
    }
   }
  }
 ],
 "metadata": {
  "kernelspec": {
   "display_name": "Python 3",
   "language": "python",
   "name": "python3"
  },
  "language_info": {
   "codemirror_mode": {
    "name": "ipython",
    "version": 2
   },
   "file_extension": ".py",
   "mimetype": "text/x-python",
   "name": "python",
   "nbconvert_exporter": "python",
   "pygments_lexer": "ipython2",
   "version": "2.7.6"
  }
 },
 "nbformat": 4,
 "nbformat_minor": 0
}
