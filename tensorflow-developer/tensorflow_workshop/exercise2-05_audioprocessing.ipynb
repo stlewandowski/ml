{
 "cells": [
  {
   "cell_type": "code",
   "execution_count": 1,
   "metadata": {
    "collapsed": true,
    "ExecuteTime": {
     "start_time": "2023-05-06T10:50:22.543851Z",
     "end_time": "2023-05-06T10:50:25.756441Z"
    }
   },
   "outputs": [],
   "source": [
    "import tensorflow as tf\n",
    "import os"
   ]
  },
  {
   "cell_type": "code",
   "execution_count": 2,
   "outputs": [],
   "source": [
    "def load_audio(file_path, sample_rate=44100):\n",
    "    # load audio at 44.1khz sample-rate\n",
    "    audio = tf.io.read_file(file_path)\n",
    "    audioout, sample_rate = tf.audio.decode_wav(audio,\n",
    "                                             desired_channels=-1,\n",
    "                                             desired_samples=sample_rate)\n",
    "    return tf.transpose(audioout)"
   ],
   "metadata": {
    "collapsed": false,
    "ExecuteTime": {
     "start_time": "2023-05-06T10:52:32.190726Z",
     "end_time": "2023-05-06T10:52:32.202725Z"
    }
   }
  },
  {
   "cell_type": "code",
   "execution_count": 3,
   "outputs": [
    {
     "name": "stdout",
     "output_type": "stream",
     "text": [
      "['data_speech_commands_v0.02/zero/004ae714_nohash_0.wav', 'data_speech_commands_v0.02/zero/004ae714_nohash_1.wav', 'data_speech_commands_v0.02/zero/01b4757a_nohash_0.wav', 'data_speech_commands_v0.02/zero/01bb6a2a_nohash_0.wav', 'data_speech_commands_v0.02/zero/01bb6a2a_nohash_1.wav']\n"
     ]
    }
   ],
   "source": [
    "prefix = \"data_speech_commands_v0.02/zero/\"\n",
    "paths = [os.path.join(prefix, path) for path in os.listdir(prefix)]\n",
    "print(paths[:5])"
   ],
   "metadata": {
    "collapsed": false,
    "ExecuteTime": {
     "start_time": "2023-05-06T10:54:33.855498Z",
     "end_time": "2023-05-06T10:54:33.871498Z"
    }
   }
  },
  {
   "cell_type": "code",
   "execution_count": 4,
   "outputs": [
    {
     "data": {
      "text/plain": "Text(0, 0.5, 'Value')"
     },
     "execution_count": 4,
     "metadata": {},
     "output_type": "execute_result"
    },
    {
     "data": {
      "text/plain": "<Figure size 432x288 with 1 Axes>",
      "image/png": "[encoded data removed]"
     },
     "metadata": {
      "needs_background": "light"
     },
     "output_type": "display_data"
    }
   ],
   "source": [
    "import matplotlib.pyplot as plt\n",
    "audio = load_audio(paths[0])\n",
    "plt.plot(audio.numpy().T)\n",
    "plt.xlabel('Sample')\n",
    "plt.ylabel('Value')"
   ],
   "metadata": {
    "collapsed": false,
    "ExecuteTime": {
     "start_time": "2023-05-06T10:55:53.016084Z",
     "end_time": "2023-05-06T10:55:55.844053Z"
    }
   }
  },
  {
   "cell_type": "code",
   "execution_count": 7,
   "outputs": [],
   "source": [
    "def apply_mfccs(audio, sample_rate=44100, num_mfccs=13):\n",
    "    stfts = tf.signal.stft(audio,\n",
    "                           frame_length=1024,\n",
    "                           frame_step=256,\n",
    "                           fft_length=1024)\n",
    "    spectograms = tf.abs(stfts)\n",
    "    num_spectogram_bins = stfts.shape[-1] #.value\n",
    "    lower_edge_hertz, upper_edge_hertz, num_mel_bins = 80.0, 7600.0, 80\n",
    "    linear_to_mel_weight_matrix = tf.signal.linear_to_mel_weight_matrix(num_mel_bins, num_spectogram_bins, sample_rate, lower_edge_hertz, upper_edge_hertz)\n",
    "    mel_spectrograms = tf.tensordot(spectograms, linear_to_mel_weight_matrix, 1)\n",
    "    mel_spectrograms.set_shape(spectograms.shape[:-1].concatenate(linear_to_mel_weight_matrix.shape[-1:]))\n",
    "    log_mel_spectrograms = tf.math.log(mel_spectrograms + 1e-6)\n",
    "    # compute mfccs from log_mel_spectrograms\n",
    "    mfccs = tf.signal.mfccs_from_log_mel_spectrograms(log_mel_spectrograms)[..., :num_mfccs]\n",
    "    return mfccs"
   ],
   "metadata": {
    "collapsed": false,
    "ExecuteTime": {
     "start_time": "2023-05-06T11:02:57.293175Z",
     "end_time": "2023-05-06T11:02:57.299175Z"
    }
   }
  },
  {
   "cell_type": "code",
   "execution_count": 8,
   "outputs": [
    {
     "data": {
      "text/plain": "Text(0, 0.5, 'Sample Value')"
     },
     "execution_count": 8,
     "metadata": {},
     "output_type": "execute_result"
    },
    {
     "data": {
      "text/plain": "<Figure size 432x288 with 1 Axes>",
      "image/png": "[encoded data removed]"
     },
     "metadata": {
      "needs_background": "light"
     },
     "output_type": "display_data"
    }
   ],
   "source": [
    "mfcc = apply_mfccs(audio)\n",
    "plt.pcolor(mfcc.numpy()[0])\n",
    "plt.xlabel('MFCC log coefficient')\n",
    "plt.ylabel('Sample Value')"
   ],
   "metadata": {
    "collapsed": false,
    "ExecuteTime": {
     "start_time": "2023-05-06T11:03:03.670724Z",
     "end_time": "2023-05-06T11:03:03.935913Z"
    }
   }
  },
  {
   "cell_type": "code",
   "execution_count": 10,
   "outputs": [],
   "source": [
    "AUTOTUNE = tf.data.experimental.AUTOTUNE\n",
    "\n",
    "def prep_ds(ds, shuffle_buffer_size=1024, batch_size=64):\n",
    "    # randomly shuffle (file_path, label) dataset\n",
    "    ds = ds.shuffle(buffer_size=shuffle_buffer_size)\n",
    "    # load and decode audio from file paths\n",
    "    ds = ds.map(load_audio, num_parallel_calls=AUTOTUNE)\n",
    "    # generate MFCCs from the audio data\n",
    "    ds = ds.map(apply_mfccs)\n",
    "    # repeat dataset forever\n",
    "    ds = ds.repeat()\n",
    "    # prepare batches\n",
    "    ds = ds.batch(batch_size)\n",
    "    # prefetch\n",
    "    ds = ds.prefetch(buffer_size=AUTOTUNE)\n",
    "    return ds"
   ],
   "metadata": {
    "collapsed": false,
    "ExecuteTime": {
     "start_time": "2023-05-06T11:06:18.843919Z",
     "end_time": "2023-05-06T11:06:18.852916Z"
    }
   }
  },
  {
   "cell_type": "code",
   "execution_count": 11,
   "outputs": [],
   "source": [
    "ds = tf.data.Dataset.from_tensor_slices(paths)\n",
    "train_ds =prep_ds(ds)"
   ],
   "metadata": {
    "collapsed": false,
    "ExecuteTime": {
     "start_time": "2023-05-06T11:06:47.112104Z",
     "end_time": "2023-05-06T11:06:47.468105Z"
    }
   }
  },
  {
   "cell_type": "code",
   "execution_count": 12,
   "outputs": [
    {
     "name": "stdout",
     "output_type": "stream",
     "text": [
      "tf.Tensor(\n",
      "[[[[-1.7475427e+02 -7.8259567e-05  8.2965726e-06 ...  8.8049037e-06\n",
      "     6.4839332e-06 -2.2959596e-06]\n",
      "   [-1.7475427e+02 -7.8259567e-05  8.2965726e-06 ...  8.8049037e-06\n",
      "     6.4839332e-06 -2.2959596e-06]\n",
      "   [-1.7475427e+02 -7.8259567e-05  8.2965726e-06 ...  8.8049037e-06\n",
      "     6.4839332e-06 -2.2959596e-06]\n",
      "   ...\n",
      "   [-1.7475427e+02 -7.8259567e-05  8.2965726e-06 ...  8.8049037e-06\n",
      "     6.4839332e-06 -2.2959596e-06]\n",
      "   [-1.7475427e+02 -7.8259567e-05  8.2965726e-06 ...  8.8049037e-06\n",
      "     6.4839332e-06 -2.2959596e-06]\n",
      "   [-1.7475427e+02 -7.8259567e-05  8.2965726e-06 ...  8.8049037e-06\n",
      "     6.4839332e-06 -2.2959596e-06]]]\n",
      "\n",
      "\n",
      " [[[-4.6867157e+01 -3.6049349e+00 -7.3594236e+00 ... -2.1822487e-01\n",
      "    -1.4503988e+00  4.1418642e-02]\n",
      "   [-4.7343922e+01 -3.9652030e+00 -7.4302049e+00 ... -2.3312728e+00\n",
      "    -3.2186608e+00  4.5675406e-01]\n",
      "   [-4.8654289e+01 -4.4386497e+00 -7.0208702e+00 ... -1.6784549e+00\n",
      "    -1.9266303e+00  2.2364730e-01]\n",
      "   ...\n",
      "   [-1.7475427e+02 -7.8259567e-05  8.2965726e-06 ...  8.8049037e-06\n",
      "     6.4839332e-06 -2.2959596e-06]\n",
      "   [-1.7475427e+02 -7.8259567e-05  8.2965726e-06 ...  8.8049037e-06\n",
      "     6.4839332e-06 -2.2959596e-06]\n",
      "   [-1.7475427e+02 -7.8259567e-05  8.2965726e-06 ...  8.8049037e-06\n",
      "     6.4839332e-06 -2.2959596e-06]]]\n",
      "\n",
      "\n",
      " [[[ 1.2580965e+01  9.0124865e+00  3.6172777e-01 ...  1.2856320e+00\n",
      "    -1.0928116e+00  5.3657401e-01]\n",
      "   [ 1.8192091e+01  6.0590057e+00  4.8725006e-01 ...  1.1041129e+00\n",
      "    -6.4193487e-01 -2.2835231e-01]\n",
      "   [ 1.6019991e+01  2.8523605e+00 -2.5831854e-01 ...  4.4350082e-01\n",
      "    -9.0821022e-01 -9.1827792e-01]\n",
      "   ...\n",
      "   [-1.7475427e+02 -7.8259567e-05  8.2965726e-06 ...  8.8049037e-06\n",
      "     6.4839332e-06 -2.2959596e-06]\n",
      "   [-1.7475427e+02 -7.8259567e-05  8.2965726e-06 ...  8.8049037e-06\n",
      "     6.4839332e-06 -2.2959596e-06]\n",
      "   [-1.7475427e+02 -7.8259567e-05  8.2965726e-06 ...  8.8049037e-06\n",
      "     6.4839332e-06 -2.2959596e-06]]]\n",
      "\n",
      "\n",
      " ...\n",
      "\n",
      "\n",
      " [[[-1.2203169e+01  6.4360571e+00 -4.8470888e+00 ...  4.5904422e+00\n",
      "     2.3735528e+00  1.7420646e+00]\n",
      "   [-1.0449328e+01  4.4066939e+00 -5.1310410e+00 ...  3.1440477e+00\n",
      "     1.9140385e+00  2.1714845e+00]\n",
      "   [-9.5306435e+00  3.6069448e+00 -5.2424979e+00 ...  2.4197006e+00\n",
      "     1.8039486e+00  2.7765086e+00]\n",
      "   ...\n",
      "   [-1.7475427e+02 -7.8259567e-05  8.2965726e-06 ...  8.8049037e-06\n",
      "     6.4839332e-06 -2.2959596e-06]\n",
      "   [-1.7475427e+02 -7.8259567e-05  8.2965726e-06 ...  8.8049037e-06\n",
      "     6.4839332e-06 -2.2959596e-06]\n",
      "   [-1.7475427e+02 -7.8259567e-05  8.2965726e-06 ...  8.8049037e-06\n",
      "     6.4839332e-06 -2.2959596e-06]]]\n",
      "\n",
      "\n",
      " [[[-4.6743870e+01  9.0484118e-01 -7.3982549e+00 ... -9.0268409e-01\n",
      "    -6.7014694e-01 -1.8604904e-01]\n",
      "   [-4.7054050e+01  7.2560483e-01 -6.9315701e+00 ... -8.5437435e-01\n",
      "    -5.1295537e-01 -1.5693696e-01]\n",
      "   [-4.6958076e+01 -8.2997054e-01 -7.2471213e+00 ...  5.6665933e-01\n",
      "     1.9093616e-01  2.5876540e-01]\n",
      "   ...\n",
      "   [-1.7475427e+02 -7.8259567e-05  8.2965726e-06 ...  8.8049037e-06\n",
      "     6.4839332e-06 -2.2959596e-06]\n",
      "   [-1.7475427e+02 -7.8259567e-05  8.2965726e-06 ...  8.8049037e-06\n",
      "     6.4839332e-06 -2.2959596e-06]\n",
      "   [-1.7475427e+02 -7.8259567e-05  8.2965726e-06 ...  8.8049037e-06\n",
      "     6.4839332e-06 -2.2959596e-06]]]\n",
      "\n",
      "\n",
      " [[[-5.6991756e+01 -8.6756897e+00 -5.1274543e+00 ...  6.0511969e-02\n",
      "    -8.0716752e-02 -7.3528372e-02]\n",
      "   [-5.6987484e+01 -8.6737547e+00 -4.1301970e+00 ...  8.9919096e-01\n",
      "     3.6718804e-01 -4.5752442e-01]\n",
      "   [-5.7444504e+01 -9.0918922e+00 -4.1972136e+00 ...  8.1736767e-01\n",
      "     4.2116004e-01 -2.4613795e-01]\n",
      "   ...\n",
      "   [-1.7475427e+02 -7.8259567e-05  8.2965726e-06 ...  8.8049037e-06\n",
      "     6.4839332e-06 -2.2959596e-06]\n",
      "   [-1.7475427e+02 -7.8259567e-05  8.2965726e-06 ...  8.8049037e-06\n",
      "     6.4839332e-06 -2.2959596e-06]\n",
      "   [-1.7475427e+02 -7.8259567e-05  8.2965726e-06 ...  8.8049037e-06\n",
      "     6.4839332e-06 -2.2959596e-06]]]], shape=(64, 1, 169, 13), dtype=float32)\n"
     ]
    }
   ],
   "source": [
    "# show first batch of mfcc spectrum values\n",
    "for x in train_ds.take(1):\n",
    "    print(x)"
   ],
   "metadata": {
    "collapsed": false,
    "ExecuteTime": {
     "start_time": "2023-05-06T11:07:28.653653Z",
     "end_time": "2023-05-06T11:07:28.988212Z"
    }
   }
  }
 ],
 "metadata": {
  "kernelspec": {
   "display_name": "Python 3",
   "language": "python",
   "name": "python3"
  },
  "language_info": {
   "codemirror_mode": {
    "name": "ipython",
    "version": 2
   },
   "file_extension": ".py",
   "mimetype": "text/x-python",
   "name": "python",
   "nbconvert_exporter": "python",
   "pygments_lexer": "ipython2",
   "version": "2.7.6"
  }
 },
 "nbformat": 4,
 "nbformat_minor": 0
}
