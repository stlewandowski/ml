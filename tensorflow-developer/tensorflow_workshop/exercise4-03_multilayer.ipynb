{
 "cells": [
  {
   "cell_type": "code",
   "execution_count": 1,
   "metadata": {
    "collapsed": true,
    "ExecuteTime": {
     "end_time": "2023-06-24T19:48:38.132019600Z",
     "start_time": "2023-06-24T19:48:35.198764Z"
    }
   },
   "outputs": [],
   "source": [
    "import tensorflow as tf\n",
    "import pandas as pd\n"
   ]
  },
  {
   "cell_type": "code",
   "execution_count": 2,
   "outputs": [
    {
     "data": {
      "text/plain": "   station        Date  Present_Tmax  Present_Tmin  LDAPS_RHmin  LDAPS_RHmax  \\\n0      1.0  2013-06-30          28.7          21.4    58.255688    91.116364   \n1      2.0  2013-06-30          31.9          21.6    52.263397    90.604721   \n2      3.0  2013-06-30          31.6          23.3    48.690479    83.973587   \n3      4.0  2013-06-30          32.0          23.4    58.239788    96.483688   \n4      5.0  2013-06-30          31.4          21.9    56.174095    90.155128   \n\n   LDAPS_Tmax_lapse  LDAPS_Tmin_lapse  LDAPS_WS    LDAPS_LH  ...  LDAPS_PPT2  \\\n0         28.074101         23.006936  6.818887   69.451805  ...         0.0   \n1         29.850689         24.035009  5.691890   51.937448  ...         0.0   \n2         30.091292         24.565633  6.138224   20.573050  ...         0.0   \n3         29.704629         23.326177  5.650050   65.727144  ...         0.0   \n4         29.113934         23.486480  5.735004  107.965535  ...         0.0   \n\n   LDAPS_PPT3  LDAPS_PPT4      lat      lon       DEM   Slope  \\\n0         0.0         0.0  37.6046  126.991  212.3350  2.7850   \n1         0.0         0.0  37.6046  127.032   44.7624  0.5141   \n2         0.0         0.0  37.5776  127.058   33.3068  0.2661   \n3         0.0         0.0  37.6450  127.022   45.7160  2.5348   \n4         0.0         0.0  37.5507  127.135   35.0380  0.5055   \n\n   Solar radiation  Next_Tmax  Next_Tmin  \n0      5992.895996       29.1       21.2  \n1      5869.312500       30.5       22.5  \n2      5863.555664       31.1       23.9  \n3      5856.964844       31.7       24.3  \n4      5859.552246       31.2       22.5  \n\n[5 rows x 25 columns]",
      "text/html": "<div>\n<style scoped>\n    .dataframe tbody tr th:only-of-type {\n        vertical-align: middle;\n    }\n\n    .dataframe tbody tr th {\n        vertical-align: top;\n    }\n\n    .dataframe thead th {\n        text-align: right;\n    }\n</style>\n<table border=\"1\" class=\"dataframe\">\n  <thead>\n    <tr style=\"text-align: right;\">\n      <th></th>\n      <th>station</th>\n      <th>Date</th>\n      <th>Present_Tmax</th>\n      <th>Present_Tmin</th>\n      <th>LDAPS_RHmin</th>\n      <th>LDAPS_RHmax</th>\n      <th>LDAPS_Tmax_lapse</th>\n      <th>LDAPS_Tmin_lapse</th>\n      <th>LDAPS_WS</th>\n      <th>LDAPS_LH</th>\n      <th>...</th>\n      <th>LDAPS_PPT2</th>\n      <th>LDAPS_PPT3</th>\n      <th>LDAPS_PPT4</th>\n      <th>lat</th>\n      <th>lon</th>\n      <th>DEM</th>\n      <th>Slope</th>\n      <th>Solar radiation</th>\n      <th>Next_Tmax</th>\n      <th>Next_Tmin</th>\n    </tr>\n  </thead>\n  <tbody>\n    <tr>\n      <th>0</th>\n      <td>1.0</td>\n      <td>2013-06-30</td>\n      <td>28.7</td>\n      <td>21.4</td>\n      <td>58.255688</td>\n      <td>91.116364</td>\n      <td>28.074101</td>\n      <td>23.006936</td>\n      <td>6.818887</td>\n      <td>69.451805</td>\n      <td>...</td>\n      <td>0.0</td>\n      <td>0.0</td>\n      <td>0.0</td>\n      <td>37.6046</td>\n      <td>126.991</td>\n      <td>212.3350</td>\n      <td>2.7850</td>\n      <td>5992.895996</td>\n      <td>29.1</td>\n      <td>21.2</td>\n    </tr>\n    <tr>\n      <th>1</th>\n      <td>2.0</td>\n      <td>2013-06-30</td>\n      <td>31.9</td>\n      <td>21.6</td>\n      <td>52.263397</td>\n      <td>90.604721</td>\n      <td>29.850689</td>\n      <td>24.035009</td>\n      <td>5.691890</td>\n      <td>51.937448</td>\n      <td>...</td>\n      <td>0.0</td>\n      <td>0.0</td>\n      <td>0.0</td>\n      <td>37.6046</td>\n      <td>127.032</td>\n      <td>44.7624</td>\n      <td>0.5141</td>\n      <td>5869.312500</td>\n      <td>30.5</td>\n      <td>22.5</td>\n    </tr>\n    <tr>\n      <th>2</th>\n      <td>3.0</td>\n      <td>2013-06-30</td>\n      <td>31.6</td>\n      <td>23.3</td>\n      <td>48.690479</td>\n      <td>83.973587</td>\n      <td>30.091292</td>\n      <td>24.565633</td>\n      <td>6.138224</td>\n      <td>20.573050</td>\n      <td>...</td>\n      <td>0.0</td>\n      <td>0.0</td>\n      <td>0.0</td>\n      <td>37.5776</td>\n      <td>127.058</td>\n      <td>33.3068</td>\n      <td>0.2661</td>\n      <td>5863.555664</td>\n      <td>31.1</td>\n      <td>23.9</td>\n    </tr>\n    <tr>\n      <th>3</th>\n      <td>4.0</td>\n      <td>2013-06-30</td>\n      <td>32.0</td>\n      <td>23.4</td>\n      <td>58.239788</td>\n      <td>96.483688</td>\n      <td>29.704629</td>\n      <td>23.326177</td>\n      <td>5.650050</td>\n      <td>65.727144</td>\n      <td>...</td>\n      <td>0.0</td>\n      <td>0.0</td>\n      <td>0.0</td>\n      <td>37.6450</td>\n      <td>127.022</td>\n      <td>45.7160</td>\n      <td>2.5348</td>\n      <td>5856.964844</td>\n      <td>31.7</td>\n      <td>24.3</td>\n    </tr>\n    <tr>\n      <th>4</th>\n      <td>5.0</td>\n      <td>2013-06-30</td>\n      <td>31.4</td>\n      <td>21.9</td>\n      <td>56.174095</td>\n      <td>90.155128</td>\n      <td>29.113934</td>\n      <td>23.486480</td>\n      <td>5.735004</td>\n      <td>107.965535</td>\n      <td>...</td>\n      <td>0.0</td>\n      <td>0.0</td>\n      <td>0.0</td>\n      <td>37.5507</td>\n      <td>127.135</td>\n      <td>35.0380</td>\n      <td>0.5055</td>\n      <td>5859.552246</td>\n      <td>31.2</td>\n      <td>22.5</td>\n    </tr>\n  </tbody>\n</table>\n<p>5 rows × 25 columns</p>\n</div>"
     },
     "execution_count": 2,
     "metadata": {},
     "output_type": "execute_result"
    }
   ],
   "source": [
    "df = pd.read_csv('Bias_correction_ucl.csv')\n",
    "df.head()"
   ],
   "metadata": {
    "collapsed": false,
    "ExecuteTime": {
     "end_time": "2023-06-24T19:48:57.011890200Z",
     "start_time": "2023-06-24T19:48:56.996168300Z"
    }
   }
  },
  {
   "cell_type": "code",
   "execution_count": 3,
   "outputs": [
    {
     "data": {
      "text/plain": "   station  Present_Tmax  Present_Tmin  LDAPS_RHmin  LDAPS_RHmax  \\\n0      1.0          28.7          21.4    58.255688    91.116364   \n1      2.0          31.9          21.6    52.263397    90.604721   \n2      3.0          31.6          23.3    48.690479    83.973587   \n3      4.0          32.0          23.4    58.239788    96.483688   \n4      5.0          31.4          21.9    56.174095    90.155128   \n\n   LDAPS_Tmax_lapse  LDAPS_Tmin_lapse  LDAPS_WS    LDAPS_LH  LDAPS_CC1  ...  \\\n0         28.074101         23.006936  6.818887   69.451805   0.233947  ...   \n1         29.850689         24.035009  5.691890   51.937448   0.225508  ...   \n2         30.091292         24.565633  6.138224   20.573050   0.209344  ...   \n3         29.704629         23.326177  5.650050   65.727144   0.216372  ...   \n4         29.113934         23.486480  5.735004  107.965535   0.151407  ...   \n\n   LDAPS_PPT2  LDAPS_PPT3  LDAPS_PPT4      lat      lon       DEM   Slope  \\\n0         0.0         0.0         0.0  37.6046  126.991  212.3350  2.7850   \n1         0.0         0.0         0.0  37.6046  127.032   44.7624  0.5141   \n2         0.0         0.0         0.0  37.5776  127.058   33.3068  0.2661   \n3         0.0         0.0         0.0  37.6450  127.022   45.7160  2.5348   \n4         0.0         0.0         0.0  37.5507  127.135   35.0380  0.5055   \n\n   Solar radiation  Next_Tmax  Next_Tmin  \n0      5992.895996       29.1       21.2  \n1      5869.312500       30.5       22.5  \n2      5863.555664       31.1       23.9  \n3      5856.964844       31.7       24.3  \n4      5859.552246       31.2       22.5  \n\n[5 rows x 24 columns]",
      "text/html": "<div>\n<style scoped>\n    .dataframe tbody tr th:only-of-type {\n        vertical-align: middle;\n    }\n\n    .dataframe tbody tr th {\n        vertical-align: top;\n    }\n\n    .dataframe thead th {\n        text-align: right;\n    }\n</style>\n<table border=\"1\" class=\"dataframe\">\n  <thead>\n    <tr style=\"text-align: right;\">\n      <th></th>\n      <th>station</th>\n      <th>Present_Tmax</th>\n      <th>Present_Tmin</th>\n      <th>LDAPS_RHmin</th>\n      <th>LDAPS_RHmax</th>\n      <th>LDAPS_Tmax_lapse</th>\n      <th>LDAPS_Tmin_lapse</th>\n      <th>LDAPS_WS</th>\n      <th>LDAPS_LH</th>\n      <th>LDAPS_CC1</th>\n      <th>...</th>\n      <th>LDAPS_PPT2</th>\n      <th>LDAPS_PPT3</th>\n      <th>LDAPS_PPT4</th>\n      <th>lat</th>\n      <th>lon</th>\n      <th>DEM</th>\n      <th>Slope</th>\n      <th>Solar radiation</th>\n      <th>Next_Tmax</th>\n      <th>Next_Tmin</th>\n    </tr>\n  </thead>\n  <tbody>\n    <tr>\n      <th>0</th>\n      <td>1.0</td>\n      <td>28.7</td>\n      <td>21.4</td>\n      <td>58.255688</td>\n      <td>91.116364</td>\n      <td>28.074101</td>\n      <td>23.006936</td>\n      <td>6.818887</td>\n      <td>69.451805</td>\n      <td>0.233947</td>\n      <td>...</td>\n      <td>0.0</td>\n      <td>0.0</td>\n      <td>0.0</td>\n      <td>37.6046</td>\n      <td>126.991</td>\n      <td>212.3350</td>\n      <td>2.7850</td>\n      <td>5992.895996</td>\n      <td>29.1</td>\n      <td>21.2</td>\n    </tr>\n    <tr>\n      <th>1</th>\n      <td>2.0</td>\n      <td>31.9</td>\n      <td>21.6</td>\n      <td>52.263397</td>\n      <td>90.604721</td>\n      <td>29.850689</td>\n      <td>24.035009</td>\n      <td>5.691890</td>\n      <td>51.937448</td>\n      <td>0.225508</td>\n      <td>...</td>\n      <td>0.0</td>\n      <td>0.0</td>\n      <td>0.0</td>\n      <td>37.6046</td>\n      <td>127.032</td>\n      <td>44.7624</td>\n      <td>0.5141</td>\n      <td>5869.312500</td>\n      <td>30.5</td>\n      <td>22.5</td>\n    </tr>\n    <tr>\n      <th>2</th>\n      <td>3.0</td>\n      <td>31.6</td>\n      <td>23.3</td>\n      <td>48.690479</td>\n      <td>83.973587</td>\n      <td>30.091292</td>\n      <td>24.565633</td>\n      <td>6.138224</td>\n      <td>20.573050</td>\n      <td>0.209344</td>\n      <td>...</td>\n      <td>0.0</td>\n      <td>0.0</td>\n      <td>0.0</td>\n      <td>37.5776</td>\n      <td>127.058</td>\n      <td>33.3068</td>\n      <td>0.2661</td>\n      <td>5863.555664</td>\n      <td>31.1</td>\n      <td>23.9</td>\n    </tr>\n    <tr>\n      <th>3</th>\n      <td>4.0</td>\n      <td>32.0</td>\n      <td>23.4</td>\n      <td>58.239788</td>\n      <td>96.483688</td>\n      <td>29.704629</td>\n      <td>23.326177</td>\n      <td>5.650050</td>\n      <td>65.727144</td>\n      <td>0.216372</td>\n      <td>...</td>\n      <td>0.0</td>\n      <td>0.0</td>\n      <td>0.0</td>\n      <td>37.6450</td>\n      <td>127.022</td>\n      <td>45.7160</td>\n      <td>2.5348</td>\n      <td>5856.964844</td>\n      <td>31.7</td>\n      <td>24.3</td>\n    </tr>\n    <tr>\n      <th>4</th>\n      <td>5.0</td>\n      <td>31.4</td>\n      <td>21.9</td>\n      <td>56.174095</td>\n      <td>90.155128</td>\n      <td>29.113934</td>\n      <td>23.486480</td>\n      <td>5.735004</td>\n      <td>107.965535</td>\n      <td>0.151407</td>\n      <td>...</td>\n      <td>0.0</td>\n      <td>0.0</td>\n      <td>0.0</td>\n      <td>37.5507</td>\n      <td>127.135</td>\n      <td>35.0380</td>\n      <td>0.5055</td>\n      <td>5859.552246</td>\n      <td>31.2</td>\n      <td>22.5</td>\n    </tr>\n  </tbody>\n</table>\n<p>5 rows × 24 columns</p>\n</div>"
     },
     "execution_count": 3,
     "metadata": {},
     "output_type": "execute_result"
    }
   ],
   "source": [
    "df.drop('Date', inplace=True, axis=1)\n",
    "df.dropna(inplace=True)\n",
    "df.head()"
   ],
   "metadata": {
    "collapsed": false,
    "ExecuteTime": {
     "end_time": "2023-06-24T19:49:21.279355800Z",
     "start_time": "2023-06-24T19:49:21.271845400Z"
    }
   }
  },
  {
   "cell_type": "code",
   "execution_count": 4,
   "outputs": [],
   "source": [
    "target = df[['Next_Tmax', 'Next_Tmin']]\n",
    "features = df.drop(['Next_Tmax', 'Next_Tmin'], axis=1)\n",
    "\n"
   ],
   "metadata": {
    "collapsed": false,
    "ExecuteTime": {
     "end_time": "2023-06-24T19:50:19.004450400Z",
     "start_time": "2023-06-24T19:50:18.999579900Z"
    }
   }
  },
  {
   "cell_type": "code",
   "execution_count": 5,
   "outputs": [],
   "source": [
    "from sklearn.preprocessing import MinMaxScaler\n",
    "scaler = MinMaxScaler()\n",
    "feature_array = scaler.fit_transform(features)\n",
    "features = pd.DataFrame(feature_array, columns=features.columns)\n"
   ],
   "metadata": {
    "collapsed": false,
    "ExecuteTime": {
     "end_time": "2023-06-24T19:50:54.646650800Z",
     "start_time": "2023-06-24T19:50:54.110073200Z"
    }
   }
  },
  {
   "cell_type": "code",
   "execution_count": 7,
   "outputs": [
    {
     "name": "stdout",
     "output_type": "stream",
     "text": [
      "Model: \"sequential_1\"\n",
      "_________________________________________________________________\n",
      " Layer (type)                Output Shape              Param #   \n",
      "=================================================================\n",
      " Dense1 (Dense)              (None, 16)                368       \n",
      "                                                                 \n",
      " Dense2 (Dense)              (None, 8)                 136       \n",
      "                                                                 \n",
      " Dense3 (Dense)              (None, 4)                 36        \n",
      "                                                                 \n",
      " OutputLayer (Dense)         (None, 2)                 10        \n",
      "                                                                 \n",
      "=================================================================\n",
      "Total params: 550\n",
      "Trainable params: 550\n",
      "Non-trainable params: 0\n",
      "_________________________________________________________________\n"
     ]
    }
   ],
   "source": [
    "model = tf.keras.Sequential([\n",
    "    tf.keras.layers.InputLayer(input_shape=(features.shape[1],), name='Input_layer'),\n",
    "    tf.keras.layers.Dense(16, name=\"Dense1\"), # activation='relu'),\n",
    "    tf.keras.layers.Dense(8, name=\"Dense2\"), # activation='relu'),\n",
    "    tf.keras.layers.Dense(4, name=\"Dense3\"), # activation='relu'),\n",
    "    tf.keras.layers.Dense(2, name=\"OutputLayer\")\n",
    "])\n",
    "model.compile(tf.optimizers.RMSprop(0.001), loss='mse', metrics=['accuracy'])\n",
    "tensorboard_callback = tf.keras.callbacks.TensorBoard(log_dir=\"logs\")\n",
    "model.summary()"
   ],
   "metadata": {
    "collapsed": false,
    "ExecuteTime": {
     "end_time": "2023-06-24T19:54:34.172276100Z",
     "start_time": "2023-06-24T19:54:34.123267800Z"
    }
   }
  },
  {
   "cell_type": "code",
   "execution_count": 8,
   "outputs": [
    {
     "name": "stdout",
     "output_type": "stream",
     "text": [
      "Epoch 1/50\n",
      "190/190 [==============================] - 1s 2ms/step - loss: 293.9465 - accuracy: 0.9483 - val_loss: 16.2295 - val_accuracy: 1.0000\n",
      "Epoch 2/50\n",
      "190/190 [==============================] - 0s 1ms/step - loss: 8.9116 - accuracy: 1.0000 - val_loss: 5.1322 - val_accuracy: 1.0000\n",
      "Epoch 3/50\n",
      "190/190 [==============================] - 0s 1ms/step - loss: 4.2210 - accuracy: 1.0000 - val_loss: 3.8049 - val_accuracy: 1.0000\n",
      "Epoch 4/50\n",
      "190/190 [==============================] - 0s 1ms/step - loss: 3.1070 - accuracy: 1.0000 - val_loss: 3.3336 - val_accuracy: 1.0000\n",
      "Epoch 5/50\n",
      "190/190 [==============================] - 0s 1ms/step - loss: 2.6702 - accuracy: 1.0000 - val_loss: 3.1490 - val_accuracy: 1.0000\n",
      "Epoch 6/50\n",
      "190/190 [==============================] - 0s 1ms/step - loss: 2.4160 - accuracy: 1.0000 - val_loss: 3.1262 - val_accuracy: 1.0000\n",
      "Epoch 7/50\n",
      "190/190 [==============================] - 0s 1ms/step - loss: 2.2525 - accuracy: 1.0000 - val_loss: 3.0029 - val_accuracy: 1.0000\n",
      "Epoch 8/50\n",
      "190/190 [==============================] - 0s 1ms/step - loss: 2.1090 - accuracy: 1.0000 - val_loss: 2.5638 - val_accuracy: 1.0000\n",
      "Epoch 9/50\n",
      "190/190 [==============================] - 0s 1ms/step - loss: 2.0185 - accuracy: 1.0000 - val_loss: 3.8653 - val_accuracy: 1.0000\n",
      "Epoch 10/50\n",
      "190/190 [==============================] - 0s 1ms/step - loss: 1.9541 - accuracy: 1.0000 - val_loss: 2.6148 - val_accuracy: 1.0000\n",
      "Epoch 11/50\n",
      "190/190 [==============================] - 0s 1ms/step - loss: 1.8985 - accuracy: 1.0000 - val_loss: 2.2956 - val_accuracy: 1.0000\n",
      "Epoch 12/50\n",
      "190/190 [==============================] - 0s 1ms/step - loss: 1.8597 - accuracy: 1.0000 - val_loss: 2.4535 - val_accuracy: 1.0000\n",
      "Epoch 13/50\n",
      "190/190 [==============================] - 0s 1ms/step - loss: 1.8200 - accuracy: 1.0000 - val_loss: 2.1550 - val_accuracy: 1.0000\n",
      "Epoch 14/50\n",
      "190/190 [==============================] - 0s 1ms/step - loss: 1.7934 - accuracy: 1.0000 - val_loss: 2.1611 - val_accuracy: 1.0000\n",
      "Epoch 15/50\n",
      "190/190 [==============================] - 0s 1ms/step - loss: 1.7707 - accuracy: 1.0000 - val_loss: 2.3275 - val_accuracy: 1.0000\n",
      "Epoch 16/50\n",
      "190/190 [==============================] - 0s 1ms/step - loss: 1.7512 - accuracy: 1.0000 - val_loss: 2.4989 - val_accuracy: 1.0000\n",
      "Epoch 17/50\n",
      "190/190 [==============================] - 0s 1ms/step - loss: 1.7362 - accuracy: 1.0000 - val_loss: 2.4455 - val_accuracy: 1.0000\n",
      "Epoch 18/50\n",
      "190/190 [==============================] - 0s 1ms/step - loss: 1.7136 - accuracy: 1.0000 - val_loss: 2.3040 - val_accuracy: 1.0000\n",
      "Epoch 19/50\n",
      "190/190 [==============================] - 0s 1ms/step - loss: 1.7007 - accuracy: 1.0000 - val_loss: 2.1054 - val_accuracy: 1.0000\n",
      "Epoch 20/50\n",
      "190/190 [==============================] - 0s 1ms/step - loss: 1.6895 - accuracy: 1.0000 - val_loss: 1.9625 - val_accuracy: 1.0000\n",
      "Epoch 21/50\n",
      "190/190 [==============================] - 0s 1ms/step - loss: 1.6888 - accuracy: 1.0000 - val_loss: 1.9824 - val_accuracy: 1.0000\n",
      "Epoch 22/50\n",
      "190/190 [==============================] - 0s 1ms/step - loss: 1.6605 - accuracy: 1.0000 - val_loss: 2.5486 - val_accuracy: 1.0000\n",
      "Epoch 23/50\n",
      "190/190 [==============================] - 0s 1ms/step - loss: 1.6625 - accuracy: 1.0000 - val_loss: 2.0861 - val_accuracy: 1.0000\n",
      "Epoch 24/50\n",
      "190/190 [==============================] - 0s 1ms/step - loss: 1.6725 - accuracy: 1.0000 - val_loss: 1.9192 - val_accuracy: 1.0000\n",
      "Epoch 25/50\n",
      "190/190 [==============================] - 0s 1ms/step - loss: 1.6587 - accuracy: 1.0000 - val_loss: 2.0202 - val_accuracy: 1.0000\n",
      "Epoch 26/50\n",
      "190/190 [==============================] - 0s 1ms/step - loss: 1.6531 - accuracy: 1.0000 - val_loss: 2.7307 - val_accuracy: 1.0000\n",
      "Epoch 27/50\n",
      "190/190 [==============================] - 0s 1ms/step - loss: 1.6471 - accuracy: 1.0000 - val_loss: 1.8734 - val_accuracy: 1.0000\n",
      "Epoch 28/50\n",
      "190/190 [==============================] - 0s 1ms/step - loss: 1.6429 - accuracy: 1.0000 - val_loss: 1.8877 - val_accuracy: 1.0000\n",
      "Epoch 29/50\n",
      "190/190 [==============================] - 0s 1ms/step - loss: 1.6408 - accuracy: 1.0000 - val_loss: 2.5625 - val_accuracy: 1.0000\n",
      "Epoch 30/50\n",
      "190/190 [==============================] - 0s 1ms/step - loss: 1.6309 - accuracy: 1.0000 - val_loss: 1.9388 - val_accuracy: 1.0000\n",
      "Epoch 31/50\n",
      "190/190 [==============================] - 0s 1ms/step - loss: 1.6288 - accuracy: 1.0000 - val_loss: 1.9034 - val_accuracy: 1.0000\n",
      "Epoch 32/50\n",
      "190/190 [==============================] - 0s 1ms/step - loss: 1.6323 - accuracy: 1.0000 - val_loss: 2.0497 - val_accuracy: 1.0000\n",
      "Epoch 33/50\n",
      "190/190 [==============================] - 0s 1ms/step - loss: 1.6261 - accuracy: 1.0000 - val_loss: 1.8535 - val_accuracy: 1.0000\n",
      "Epoch 34/50\n",
      "190/190 [==============================] - 0s 1ms/step - loss: 1.6345 - accuracy: 1.0000 - val_loss: 2.0548 - val_accuracy: 1.0000\n",
      "Epoch 35/50\n",
      "190/190 [==============================] - 0s 1ms/step - loss: 1.6292 - accuracy: 1.0000 - val_loss: 1.9880 - val_accuracy: 1.0000\n",
      "Epoch 36/50\n",
      "190/190 [==============================] - 0s 1ms/step - loss: 1.6252 - accuracy: 1.0000 - val_loss: 1.8554 - val_accuracy: 1.0000\n",
      "Epoch 37/50\n",
      "190/190 [==============================] - 0s 1ms/step - loss: 1.6113 - accuracy: 1.0000 - val_loss: 1.9785 - val_accuracy: 1.0000\n",
      "Epoch 38/50\n",
      "190/190 [==============================] - 0s 1ms/step - loss: 1.6207 - accuracy: 1.0000 - val_loss: 2.3475 - val_accuracy: 1.0000\n",
      "Epoch 39/50\n",
      "190/190 [==============================] - 0s 1ms/step - loss: 1.6142 - accuracy: 1.0000 - val_loss: 2.4028 - val_accuracy: 1.0000\n",
      "Epoch 40/50\n",
      "190/190 [==============================] - 0s 1ms/step - loss: 1.6176 - accuracy: 1.0000 - val_loss: 2.9221 - val_accuracy: 1.0000\n",
      "Epoch 41/50\n",
      "190/190 [==============================] - 0s 1ms/step - loss: 1.6174 - accuracy: 1.0000 - val_loss: 2.3112 - val_accuracy: 1.0000\n",
      "Epoch 42/50\n",
      "190/190 [==============================] - 0s 1ms/step - loss: 1.6191 - accuracy: 1.0000 - val_loss: 1.9036 - val_accuracy: 1.0000\n",
      "Epoch 43/50\n",
      "190/190 [==============================] - 0s 1ms/step - loss: 1.6102 - accuracy: 1.0000 - val_loss: 2.1230 - val_accuracy: 1.0000\n",
      "Epoch 44/50\n",
      "190/190 [==============================] - 0s 1ms/step - loss: 1.6152 - accuracy: 1.0000 - val_loss: 1.9016 - val_accuracy: 1.0000\n",
      "Epoch 45/50\n",
      "190/190 [==============================] - 0s 1ms/step - loss: 1.6000 - accuracy: 1.0000 - val_loss: 1.9594 - val_accuracy: 1.0000\n",
      "Epoch 46/50\n",
      "190/190 [==============================] - 0s 1ms/step - loss: 1.6147 - accuracy: 1.0000 - val_loss: 1.8560 - val_accuracy: 1.0000\n",
      "Epoch 47/50\n",
      "190/190 [==============================] - 0s 1ms/step - loss: 1.6055 - accuracy: 1.0000 - val_loss: 1.8630 - val_accuracy: 1.0000\n",
      "Epoch 48/50\n",
      "190/190 [==============================] - 0s 1ms/step - loss: 1.6038 - accuracy: 1.0000 - val_loss: 2.2158 - val_accuracy: 1.0000\n",
      "Epoch 49/50\n",
      "190/190 [==============================] - 0s 1ms/step - loss: 1.6115 - accuracy: 1.0000 - val_loss: 1.9135 - val_accuracy: 1.0000\n",
      "Epoch 50/50\n",
      "190/190 [==============================] - 0s 1ms/step - loss: 1.5965 - accuracy: 1.0000 - val_loss: 1.9867 - val_accuracy: 1.0000\n"
     ]
    },
    {
     "data": {
      "text/plain": "<keras.callbacks.History at 0x2170c2a1990>"
     },
     "execution_count": 8,
     "metadata": {},
     "output_type": "execute_result"
    }
   ],
   "source": [
    "model.fit(x=features.to_numpy(), y=target.to_numpy(), epochs=50, callbacks=[tensorboard_callback], validation_split=0.2)"
   ],
   "metadata": {
    "collapsed": false,
    "ExecuteTime": {
     "end_time": "2023-06-24T19:55:35.217021800Z",
     "start_time": "2023-06-24T19:55:22.801026700Z"
    }
   }
  },
  {
   "cell_type": "code",
   "execution_count": 9,
   "outputs": [
    {
     "name": "stdout",
     "output_type": "stream",
     "text": [
      "238/238 [==============================] - 0s 670us/step - loss: 1.6333 - accuracy: 1.0000\n",
      "loss:  [1.6333050727844238, 1.0]\n"
     ]
    }
   ],
   "source": [
    "\n",
    "loss = model.evaluate(features.to_numpy(), target.to_numpy())\n",
    "print('loss: ', loss)"
   ],
   "metadata": {
    "collapsed": false,
    "ExecuteTime": {
     "end_time": "2023-06-24T19:55:59.071672900Z",
     "start_time": "2023-06-24T19:55:58.855830400Z"
    }
   }
  },
  {
   "cell_type": "code",
   "execution_count": null,
   "outputs": [],
   "source": [],
   "metadata": {
    "collapsed": false
   }
  }
 ],
 "metadata": {
  "kernelspec": {
   "display_name": "Python 3",
   "language": "python",
   "name": "python3"
  },
  "language_info": {
   "codemirror_mode": {
    "name": "ipython",
    "version": 2
   },
   "file_extension": ".py",
   "mimetype": "text/x-python",
   "name": "python",
   "nbconvert_exporter": "python",
   "pygments_lexer": "ipython2",
   "version": "2.7.6"
  }
 },
 "nbformat": 4,
 "nbformat_minor": 0
}
