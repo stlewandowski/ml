{
 "cells": [
  {
   "cell_type": "code",
   "execution_count": 2,
   "metadata": {
    "collapsed": true,
    "ExecuteTime": {
     "end_time": "2023-06-24T19:13:20.652113700Z",
     "start_time": "2023-06-24T19:13:20.536774700Z"
    }
   },
   "outputs": [],
   "source": [
    "import tensorflow as tf\n",
    "import tensorflow_hub as hub\n",
    "from tensorflow.python.client import session\n",
    "from tensorflow.python.summary import summary\n",
    "from tensorflow.python.framework import ops"
   ]
  },
  {
   "cell_type": "code",
   "execution_count": 9,
   "outputs": [],
   "source": [
    "logdir = \"logs\"\n",
    "module = hub.load('https://tfhub.dev/google/imagenet/inception_v3/classification/5')\n",
    "model = module.signatures['serving_default']"
   ],
   "metadata": {
    "collapsed": false,
    "ExecuteTime": {
     "end_time": "2023-06-24T19:21:56.429870500Z",
     "start_time": "2023-06-24T19:21:54.560882400Z"
    }
   }
  },
  {
   "cell_type": "code",
   "execution_count": 10,
   "outputs": [],
   "source": [
    "\n",
    "with session.Session(graph=ops.Graph()) as sess:\n",
    "    file_writer = summary.FileWriter(logdir)\n",
    "    file_writer.add_graph(model.graph)\n",
    "# launch tensorboard:\n",
    "# tensorboard --logdir=.\\tensorflow-developer\\tensorflow_workshop\\logs\n",
    "\n"
   ],
   "metadata": {
    "collapsed": false,
    "ExecuteTime": {
     "end_time": "2023-06-24T19:21:57.625769500Z",
     "start_time": "2023-06-24T19:21:57.552985700Z"
    }
   }
  },
  {
   "cell_type": "code",
   "execution_count": null,
   "outputs": [],
   "source": [],
   "metadata": {
    "collapsed": false
   }
  }
 ],
 "metadata": {
  "kernelspec": {
   "display_name": "Python 3",
   "language": "python",
   "name": "python3"
  },
  "language_info": {
   "codemirror_mode": {
    "name": "ipython",
    "version": 2
   },
   "file_extension": ".py",
   "mimetype": "text/x-python",
   "name": "python",
   "nbconvert_exporter": "python",
   "pygments_lexer": "ipython2",
   "version": "2.7.6"
  }
 },
 "nbformat": 4,
 "nbformat_minor": 0
}
