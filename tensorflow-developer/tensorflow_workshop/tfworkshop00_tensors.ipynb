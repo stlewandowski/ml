{
 "cells": [
  {
   "cell_type": "code",
   "execution_count": 2,
   "metadata": {
    "collapsed": true,
    "ExecuteTime": {
     "start_time": "2023-04-22T12:36:39.207297Z",
     "end_time": "2023-04-22T12:36:46.508083Z"
    }
   },
   "outputs": [],
   "source": [
    "import tensorflow as tf"
   ]
  },
  {
   "cell_type": "code",
   "execution_count": 3,
   "outputs": [
    {
     "data": {
      "text/plain": "'2.10.1'"
     },
     "execution_count": 3,
     "metadata": {},
     "output_type": "execute_result"
    }
   ],
   "source": [
    "tf.__version__"
   ],
   "metadata": {
    "collapsed": false,
    "ExecuteTime": {
     "start_time": "2023-04-22T12:36:46.510084Z",
     "end_time": "2023-04-22T12:36:46.525083Z"
    }
   }
  },
  {
   "cell_type": "code",
   "execution_count": 5,
   "outputs": [
    {
     "data": {
      "text/plain": "TensorShape([3])"
     },
     "execution_count": 5,
     "metadata": {},
     "output_type": "execute_result"
    }
   ],
   "source": [
    "tensor1 = tf.Variable([1,2,3], dtype=tf.int32, name='my_tensor', trainable=True)\n",
    "tensor1.shape"
   ],
   "metadata": {
    "collapsed": false,
    "ExecuteTime": {
     "start_time": "2023-04-22T12:36:56.550390Z",
     "end_time": "2023-04-22T12:36:56.599388Z"
    }
   }
  },
  {
   "cell_type": "code",
   "execution_count": 6,
   "outputs": [
    {
     "data": {
      "text/plain": "<tf.Tensor: shape=(), dtype=int32, numpy=1>"
     },
     "execution_count": 6,
     "metadata": {},
     "output_type": "execute_result"
    }
   ],
   "source": [
    "tf.rank(tensor1)"
   ],
   "metadata": {
    "collapsed": false,
    "ExecuteTime": {
     "start_time": "2023-04-22T12:37:27.418101Z",
     "end_time": "2023-04-22T12:37:27.467098Z"
    }
   }
  },
  {
   "cell_type": "code",
   "execution_count": 21,
   "outputs": [
    {
     "data": {
      "text/plain": "[3, 2, 3]"
     },
     "execution_count": 21,
     "metadata": {},
     "output_type": "execute_result"
    }
   ],
   "source": [
    "int_variable = tf.Variable(4113, tf.int16)\n",
    "int_variable\n",
    "tf.rank(int_variable)\n",
    "tf.rank(int_variable).numpy()\n",
    "int_variable.shape\n",
    "int_variable.shape.as_list()\n",
    "vector_variable = tf.Variable([0.23, 0.42, 0.35], tf.float32)\n",
    "vector_variable\n",
    "tf.rank(vector_variable).numpy()\n",
    "vector_variable.shape.as_list()\n",
    "matrix_variable = tf.Variable([[4113, 7511, 6259], [3870, 6725, 6962]], tf.int32)\n",
    "matrix_variable\n",
    "tf.rank(matrix_variable).numpy()\n",
    "matrix_variable.shape.as_list()\n",
    "tensor_variable = tf.Variable([[[4113, 7511, 6259],\n",
    "                                [3870, 6725, 6962]],\n",
    "                               [[5102, 7038, 6591],\n",
    "                                [3661, 5901, 6235]],\n",
    "                               [[951, 1208, 1098],\n",
    "                                [870, 645, 948]]])\n",
    "tensor_variable\n",
    "tf.rank(tensor_variable).numpy()\n",
    "tensor_variable.shape.as_list()\n",
    "\n"
   ],
   "metadata": {
    "collapsed": false,
    "ExecuteTime": {
     "start_time": "2023-04-22T12:46:59.492458Z",
     "end_time": "2023-04-22T12:46:59.503458Z"
    }
   }
  },
  {
   "cell_type": "code",
   "execution_count": 25,
   "outputs": [
    {
     "data": {
      "text/plain": "18153"
     },
     "execution_count": 25,
     "metadata": {},
     "output_type": "execute_result"
    }
   ],
   "source": [
    "int1 = tf.Variable(4113, tf.int32)\n",
    "int2 = tf.Variable(7511, tf.int32)\n",
    "int3 = tf.Variable(6529, tf.int32)\n",
    "int_sum = int1+int2+int3\n",
    "int_sum.numpy()\n"
   ],
   "metadata": {
    "collapsed": false,
    "ExecuteTime": {
     "start_time": "2023-04-22T12:48:45.205711Z",
     "end_time": "2023-04-22T12:48:45.216709Z"
    }
   }
  },
  {
   "cell_type": "code",
   "execution_count": 30,
   "outputs": [
    {
     "name": "stdout",
     "output_type": "stream",
     "text": [
      "[18153 17557 18731]\n",
      "18153\n",
      "17557\n",
      "18731\n"
     ]
    }
   ],
   "source": [
    "vec1 = tf.Variable([4113, 3870, 5102], tf.int32)\n",
    "vec2 = tf.Variable([7511, 6725, 7038], tf.int32)\n",
    "vec3 = tf.Variable([6529, 6962, 6591], tf.int32)\n",
    "vec_sum = vec3+vec2+vec1\n",
    "print(vec_sum.numpy())\n",
    "#vec_sum\n",
    "print((vec1[0] + vec2[0] + vec3[0]).numpy())\n",
    "print((vec1[1] + vec2[1] + vec3[1]).numpy())\n",
    "print((vec1[2] + vec2[2] + vec3[2]).numpy())"
   ],
   "metadata": {
    "collapsed": false,
    "ExecuteTime": {
     "start_time": "2023-04-22T12:52:07.598720Z",
     "end_time": "2023-04-22T12:52:07.649718Z"
    }
   }
  },
  {
   "cell_type": "code",
   "execution_count": 33,
   "outputs": [
    {
     "data": {
      "text/plain": "array([[18153, 17557, 18731],\n       [15747,  3257,  2463]])"
     },
     "execution_count": 33,
     "metadata": {},
     "output_type": "execute_result"
    }
   ],
   "source": [
    "matrix1 = tf.Variable([[4113, 3870, 5102],\n",
    "                       [3611, 951, 870]], tf.int32)\n",
    "matrix2 = tf.Variable([[7511, 6725, 7038],\n",
    "                       [5901, 1208, 645]], tf.int32)\n",
    "matrix3 = tf.Variable([[6529, 6962, 6591],\n",
    "                       [6235, 1098, 948]], tf.int32)\n",
    "matrix1.shape == matrix2.shape == matrix3.shape\n",
    "matrix_sum = matrix3+matrix2+matrix1\n",
    "matrix_sum.numpy()\n"
   ],
   "metadata": {
    "collapsed": false,
    "ExecuteTime": {
     "start_time": "2023-04-22T12:55:24.232709Z",
     "end_time": "2023-04-22T12:55:24.255707Z"
    }
   }
  },
  {
   "cell_type": "code",
   "execution_count": 35,
   "outputs": [
    {
     "name": "stdout",
     "output_type": "stream",
     "text": [
      "<tf.Variable 'Variable:0' shape=(6,) dtype=int32, numpy=array([1, 2, 3, 4, 5, 6])>\n"
     ]
    },
    {
     "data": {
      "text/plain": "<tf.Tensor: shape=(3, 2), dtype=int32, numpy=\narray([[1, 2],\n       [3, 4],\n       [5, 6]])>"
     },
     "execution_count": 35,
     "metadata": {},
     "output_type": "execute_result"
    }
   ],
   "source": [
    "tensor1 = tf.Variable([1,2,3,4,5,6])\n",
    "print(tensor1)\n",
    "tensor_reshape = tf.reshape(tensor1, shape=[3,2])\n",
    "tensor_reshape"
   ],
   "metadata": {
    "collapsed": false,
    "ExecuteTime": {
     "start_time": "2023-04-22T12:56:33.753383Z",
     "end_time": "2023-04-22T12:56:33.802380Z"
    }
   }
  },
  {
   "cell_type": "code",
   "execution_count": 37,
   "outputs": [
    {
     "name": "stdout",
     "output_type": "stream",
     "text": [
      "[1 2 3 4 5 6]\n"
     ]
    },
    {
     "data": {
      "text/plain": "array([1, 2, 3, 4, 5, 6])"
     },
     "execution_count": 37,
     "metadata": {},
     "output_type": "execute_result"
    }
   ],
   "source": [
    "tensor1 = tf.Variable([1,2,3,4,5,6])\n",
    "print(tensor1.numpy())\n",
    "tensor_transpose = tf.transpose(tensor1)\n",
    "tensor_transpose.numpy()"
   ],
   "metadata": {
    "collapsed": false,
    "ExecuteTime": {
     "start_time": "2023-04-22T12:58:03.796463Z",
     "end_time": "2023-04-22T12:58:03.822461Z"
    }
   }
  },
  {
   "cell_type": "code",
   "execution_count": 38,
   "outputs": [
    {
     "data": {
      "text/plain": "[2, 4]"
     },
     "execution_count": 38,
     "metadata": {},
     "output_type": "execute_result"
    }
   ],
   "source": [
    "matrix1 = tf.Variable([[1,2,3,4], [5,6,7,8]])\n",
    "matrix1.shape.as_list()"
   ],
   "metadata": {
    "collapsed": false,
    "ExecuteTime": {
     "start_time": "2023-04-22T12:59:26.587012Z",
     "end_time": "2023-04-22T12:59:26.596011Z"
    }
   }
  },
  {
   "cell_type": "code",
   "execution_count": 39,
   "outputs": [
    {
     "data": {
      "text/plain": "<tf.Tensor: shape=(4, 2), dtype=int32, numpy=\narray([[1, 2],\n       [3, 4],\n       [5, 6],\n       [7, 8]])>"
     },
     "execution_count": 39,
     "metadata": {},
     "output_type": "execute_result"
    }
   ],
   "source": [
    "reshape1 = tf.reshape(matrix1, shape=[4,2])\n",
    "reshape1"
   ],
   "metadata": {
    "collapsed": false,
    "ExecuteTime": {
     "start_time": "2023-04-22T13:00:00.283295Z",
     "end_time": "2023-04-22T13:00:00.295296Z"
    }
   }
  },
  {
   "cell_type": "code",
   "execution_count": 40,
   "outputs": [
    {
     "data": {
      "text/plain": "[4, 2]"
     },
     "execution_count": 40,
     "metadata": {},
     "output_type": "execute_result"
    }
   ],
   "source": [
    "reshape1.shape.as_list()"
   ],
   "metadata": {
    "collapsed": false,
    "ExecuteTime": {
     "start_time": "2023-04-22T13:00:45.353696Z",
     "end_time": "2023-04-22T13:00:45.401693Z"
    }
   }
  },
  {
   "cell_type": "code",
   "execution_count": 41,
   "outputs": [
    {
     "data": {
      "text/plain": "<tf.Tensor: shape=(1, 8), dtype=int32, numpy=array([[1, 2, 3, 4, 5, 6, 7, 8]])>"
     },
     "execution_count": 41,
     "metadata": {},
     "output_type": "execute_result"
    }
   ],
   "source": [
    "reshape2 = tf.reshape(matrix1, shape=[1,8])\n",
    "reshape2"
   ],
   "metadata": {
    "collapsed": false,
    "ExecuteTime": {
     "start_time": "2023-04-22T13:01:17.203550Z",
     "end_time": "2023-04-22T13:01:17.252547Z"
    }
   }
  },
  {
   "cell_type": "code",
   "execution_count": 42,
   "outputs": [
    {
     "data": {
      "text/plain": "[1, 8]"
     },
     "execution_count": 42,
     "metadata": {},
     "output_type": "execute_result"
    }
   ],
   "source": [
    "reshape2.shape.as_list()"
   ],
   "metadata": {
    "collapsed": false,
    "ExecuteTime": {
     "start_time": "2023-04-22T13:01:33.760478Z",
     "end_time": "2023-04-22T13:01:33.776477Z"
    }
   }
  },
  {
   "cell_type": "code",
   "execution_count": 43,
   "outputs": [
    {
     "data": {
      "text/plain": "<tf.Tensor: shape=(8, 1), dtype=int32, numpy=\narray([[1],\n       [2],\n       [3],\n       [4],\n       [5],\n       [6],\n       [7],\n       [8]])>"
     },
     "execution_count": 43,
     "metadata": {},
     "output_type": "execute_result"
    }
   ],
   "source": [
    "reshape3 = tf.reshape(matrix1, shape=[8, 1])\n",
    "reshape3"
   ],
   "metadata": {
    "collapsed": false,
    "ExecuteTime": {
     "start_time": "2023-04-22T13:02:00.624442Z",
     "end_time": "2023-04-22T13:02:00.673439Z"
    }
   }
  },
  {
   "cell_type": "code",
   "execution_count": 44,
   "outputs": [
    {
     "data": {
      "text/plain": "[8, 1]"
     },
     "execution_count": 44,
     "metadata": {},
     "output_type": "execute_result"
    }
   ],
   "source": [
    "reshape3.shape.as_list()"
   ],
   "metadata": {
    "collapsed": false,
    "ExecuteTime": {
     "start_time": "2023-04-22T13:02:15.676722Z",
     "end_time": "2023-04-22T13:02:15.691717Z"
    }
   }
  },
  {
   "cell_type": "code",
   "execution_count": 45,
   "outputs": [
    {
     "data": {
      "text/plain": "<tf.Tensor: shape=(2, 2, 2), dtype=int32, numpy=\narray([[[1, 2],\n        [3, 4]],\n\n       [[5, 6],\n        [7, 8]]])>"
     },
     "execution_count": 45,
     "metadata": {},
     "output_type": "execute_result"
    }
   ],
   "source": [
    "reshape4 = tf.reshape(matrix1, shape=[2,2,2])\n",
    "reshape4"
   ],
   "metadata": {
    "collapsed": false,
    "ExecuteTime": {
     "start_time": "2023-04-22T13:02:33.999146Z",
     "end_time": "2023-04-22T13:02:34.004136Z"
    }
   }
  },
  {
   "cell_type": "code",
   "execution_count": 46,
   "outputs": [
    {
     "data": {
      "text/plain": "[2, 2, 2]"
     },
     "execution_count": 46,
     "metadata": {},
     "output_type": "execute_result"
    }
   ],
   "source": [
    "reshape4.shape.as_list()"
   ],
   "metadata": {
    "collapsed": false,
    "ExecuteTime": {
     "start_time": "2023-04-22T13:02:58.117655Z",
     "end_time": "2023-04-22T13:02:58.165648Z"
    }
   }
  },
  {
   "cell_type": "code",
   "execution_count": 47,
   "outputs": [
    {
     "data": {
      "text/plain": "3"
     },
     "execution_count": 47,
     "metadata": {},
     "output_type": "execute_result"
    }
   ],
   "source": [
    "tf.rank(reshape4).numpy()"
   ],
   "metadata": {
    "collapsed": false,
    "ExecuteTime": {
     "start_time": "2023-04-22T13:03:14.934545Z",
     "end_time": "2023-04-22T13:03:14.952542Z"
    }
   }
  },
  {
   "cell_type": "code",
   "execution_count": 48,
   "outputs": [
    {
     "data": {
      "text/plain": "<tf.Tensor: shape=(4, 2), dtype=int32, numpy=\narray([[1, 5],\n       [2, 6],\n       [3, 7],\n       [4, 8]])>"
     },
     "execution_count": 48,
     "metadata": {},
     "output_type": "execute_result"
    }
   ],
   "source": [
    "transpose1 = tf.transpose(matrix1)\n",
    "transpose1"
   ],
   "metadata": {
    "collapsed": false,
    "ExecuteTime": {
     "start_time": "2023-04-22T13:03:32.861810Z",
     "end_time": "2023-04-22T13:03:32.911805Z"
    }
   }
  },
  {
   "cell_type": "code",
   "execution_count": 49,
   "outputs": [
    {
     "data": {
      "text/plain": "<tf.Tensor: shape=(4, 2), dtype=bool, numpy=\narray([[ True, False],\n       [False, False],\n       [False, False],\n       [False,  True]])>"
     },
     "execution_count": 49,
     "metadata": {},
     "output_type": "execute_result"
    }
   ],
   "source": [
    "transpose1 == reshape1"
   ],
   "metadata": {
    "collapsed": false,
    "ExecuteTime": {
     "start_time": "2023-04-22T13:04:18.478819Z",
     "end_time": "2023-04-22T13:04:18.526814Z"
    }
   }
  },
  {
   "cell_type": "code",
   "execution_count": 50,
   "outputs": [
    {
     "data": {
      "text/plain": "<tf.Tensor: shape=(2, 2, 2), dtype=int32, numpy=\narray([[[1, 5],\n        [3, 7]],\n\n       [[2, 6],\n        [4, 8]]])>"
     },
     "execution_count": 50,
     "metadata": {},
     "output_type": "execute_result"
    }
   ],
   "source": [
    "transpose2 = tf.transpose(reshape4)\n",
    "transpose2"
   ],
   "metadata": {
    "collapsed": false,
    "ExecuteTime": {
     "start_time": "2023-04-22T13:04:46.267130Z",
     "end_time": "2023-04-22T13:04:46.272130Z"
    }
   }
  },
  {
   "cell_type": "code",
   "execution_count": 51,
   "outputs": [
    {
     "data": {
      "text/plain": "<tf.Tensor: shape=(1, 1), dtype=int32, numpy=array([[14]])>"
     },
     "execution_count": 51,
     "metadata": {},
     "output_type": "execute_result"
    }
   ],
   "source": [
    "tensor1 = tf.Variable([[1,2,3]])\n",
    "tensor2 = tf.Variable([[1], [2], [3]])\n",
    "tensor_mult = tf.matmul(tensor1, tensor2)\n",
    "tensor_mult"
   ],
   "metadata": {
    "collapsed": false,
    "ExecuteTime": {
     "start_time": "2023-04-22T13:06:10.234115Z",
     "end_time": "2023-04-22T13:06:10.251112Z"
    }
   }
  },
  {
   "cell_type": "code",
   "execution_count": 52,
   "outputs": [
    {
     "data": {
      "text/plain": "<tf.Tensor: shape=(1, 1), dtype=int32, numpy=array([[14]])>"
     },
     "execution_count": 52,
     "metadata": {},
     "output_type": "execute_result"
    }
   ],
   "source": [
    "tensor_mult = tensor1 @ tensor2\n",
    "tensor_mult"
   ],
   "metadata": {
    "collapsed": false,
    "ExecuteTime": {
     "start_time": "2023-04-22T13:06:41.672464Z",
     "end_time": "2023-04-22T13:06:41.686464Z"
    }
   }
  },
  {
   "cell_type": "code",
   "execution_count": 53,
   "outputs": [
    {
     "data": {
      "text/plain": "<tf.Tensor: shape=(1, 3), dtype=int32, numpy=array([[ 5, 10, 15]])>"
     },
     "execution_count": 53,
     "metadata": {},
     "output_type": "execute_result"
    }
   ],
   "source": [
    "tensor1 = tf.Variable([[1,2,3]])\n",
    "scalar_mult = 5 * tensor1\n",
    "scalar_mult"
   ],
   "metadata": {
    "collapsed": false,
    "ExecuteTime": {
     "start_time": "2023-04-22T13:07:11.148870Z",
     "end_time": "2023-04-22T13:07:11.202871Z"
    }
   }
  },
  {
   "cell_type": "code",
   "execution_count": 54,
   "outputs": [
    {
     "data": {
      "text/plain": "<tf.Variable 'Variable:0' shape=(3, 5) dtype=float32, numpy=\narray([[1., 0., 3., 1., 2.],\n       [0., 1., 1., 1., 1.],\n       [2., 1., 0., 2., 0.]], dtype=float32)>"
     },
     "execution_count": 54,
     "metadata": {},
     "output_type": "execute_result"
    }
   ],
   "source": [
    "matrix1 = tf.Variable([[1.0,0.0,3.0,1.0,2.0],\n",
    "                       [0.0,1.0,1.0,1.0,1.0],\n",
    "                       [2.0,1.0,0.0,2.0,0.0]], tf.float32)\n",
    "matrix1"
   ],
   "metadata": {
    "collapsed": false,
    "ExecuteTime": {
     "start_time": "2023-04-22T13:08:43.326266Z",
     "end_time": "2023-04-22T13:08:43.377264Z"
    }
   }
  },
  {
   "cell_type": "code",
   "execution_count": 55,
   "outputs": [
    {
     "data": {
      "text/plain": "[3, 5]"
     },
     "execution_count": 55,
     "metadata": {},
     "output_type": "execute_result"
    }
   ],
   "source": [
    "matrix1.shape.as_list()"
   ],
   "metadata": {
    "collapsed": false,
    "ExecuteTime": {
     "start_time": "2023-04-22T13:08:56.064169Z",
     "end_time": "2023-04-22T13:08:56.071166Z"
    }
   }
  },
  {
   "cell_type": "code",
   "execution_count": 56,
   "outputs": [
    {
     "data": {
      "text/plain": "<tf.Variable 'Variable:0' shape=(5, 2) dtype=float32, numpy=\narray([[  0.49, 103.  ],\n       [  0.18,  38.  ],\n       [  0.24,  69.  ],\n       [  1.02,  75.  ],\n       [  0.68,  78.  ]], dtype=float32)>"
     },
     "execution_count": 56,
     "metadata": {},
     "output_type": "execute_result"
    }
   ],
   "source": [
    "matrix2 = tf.Variable([[0.49, 103],\n",
    "                       [0.18, 38],\n",
    "                       [0.24, 69],\n",
    "                       [1.02, 75],\n",
    "                       [0.68, 78]])\n",
    "matrix2"
   ],
   "metadata": {
    "collapsed": false,
    "ExecuteTime": {
     "start_time": "2023-04-22T13:09:46.396775Z",
     "end_time": "2023-04-22T13:09:46.406775Z"
    }
   }
  },
  {
   "cell_type": "code",
   "execution_count": 57,
   "outputs": [
    {
     "data": {
      "text/plain": "<tf.Tensor: shape=(3, 2), dtype=float32, numpy=\narray([[  3.5900002, 541.       ],\n       [  2.1200001, 260.       ],\n       [  3.2      , 394.       ]], dtype=float32)>"
     },
     "execution_count": 57,
     "metadata": {},
     "output_type": "execute_result"
    }
   ],
   "source": [
    "matmul1 = tf.matmul(matrix1, matrix2)\n",
    "matmul1"
   ],
   "metadata": {
    "collapsed": false,
    "ExecuteTime": {
     "start_time": "2023-04-22T13:10:08.090760Z",
     "end_time": "2023-04-22T13:10:09.858716Z"
    }
   }
  },
  {
   "cell_type": "code",
   "execution_count": 58,
   "outputs": [
    {
     "data": {
      "text/plain": "<tf.Variable 'Variable:0' shape=(5, 3) dtype=float32, numpy=\narray([[120., 100.,  90.],\n       [ 30.,  15.,  20.],\n       [220., 240., 185.],\n       [145., 160., 155.],\n       [330., 295., 290.]], dtype=float32)>"
     },
     "execution_count": 58,
     "metadata": {},
     "output_type": "execute_result"
    }
   ],
   "source": [
    "matrix3 = tf.Variable([[120.0, 100.0, 90.0],\n",
    "                       [30.0, 15.0, 20.0],\n",
    "                       [220.0, 240.0, 185.0],\n",
    "                       [145.0, 160.0, 155.0],\n",
    "                       [330.0, 295.0, 290.0]])\n",
    "matrix3"
   ],
   "metadata": {
    "collapsed": false,
    "ExecuteTime": {
     "start_time": "2023-04-22T13:12:07.853579Z",
     "end_time": "2023-04-22T13:12:07.865580Z"
    }
   }
  },
  {
   "cell_type": "code",
   "execution_count": 60,
   "outputs": [
    {
     "data": {
      "text/plain": "<tf.Tensor: shape=(5, 2), dtype=float32, numpy=\narray([[9.3080005e+02, 1.2638000e+05],\n       [2.0350000e+02, 2.8010000e+04],\n       [1.8906001e+03, 2.5431000e+05],\n       [1.3557500e+03, 1.8111500e+05],\n       [2.7381001e+03, 3.6949000e+05]], dtype=float32)>"
     },
     "execution_count": 60,
     "metadata": {},
     "output_type": "execute_result"
    }
   ],
   "source": [
    "matmul3 = matrix3 @ matmul1\n",
    "matmul3"
   ],
   "metadata": {
    "collapsed": false,
    "ExecuteTime": {
     "start_time": "2023-04-22T13:12:30.473414Z",
     "end_time": "2023-04-22T13:12:30.480412Z"
    }
   }
  },
  {
   "cell_type": "code",
   "execution_count": 61,
   "outputs": [
    {
     "data": {
      "text/plain": "<tf.Variable 'Variable:0' shape=(3, 4) dtype=float32, numpy=\narray([[-0.013,  0.024,  0.06 ,  0.022],\n       [ 0.001, -0.047,  0.039,  0.016],\n       [ 0.018,  0.03 , -0.021, -0.028]], dtype=float32)>"
     },
     "execution_count": 61,
     "metadata": {},
     "output_type": "execute_result"
    }
   ],
   "source": [
    "# activity 1.0.3 - applying activation functions\n",
    "# 3x4 tensor shows sales from various sales reps\n",
    "# rows are sales reps\n",
    "# columns are vehicles available\n",
    "# values are average percentage difference from msrp\n",
    "# values can be positive or negative based on the price they could get for the car\n",
    "# 3 reps, 4 types of cars\n",
    "input1 = tf.Variable([[-0.013, 0.024, 0.06, 0.022],\n",
    "                      [0.001, -0.047, 0.039, 0.016],\n",
    "                      [0.018, 0.030, -0.021, -0.028]], tf.float32)\n",
    "input1\n"
   ],
   "metadata": {
    "collapsed": false,
    "ExecuteTime": {
     "start_time": "2023-04-22T13:23:17.126415Z",
     "end_time": "2023-04-22T13:23:17.141414Z"
    }
   }
  },
  {
   "cell_type": "code",
   "execution_count": 65,
   "outputs": [
    {
     "name": "stdout",
     "output_type": "stream",
     "text": [
      "tf.Tensor(\n",
      "[[  704.58545]\n",
      " [-1741.7827 ]\n",
      " [-3001.75   ]], shape=(3, 1), dtype=float32)\n",
      "tf.Tensor(\n",
      "[[3204.5854 ]\n",
      " [ 758.2173 ]\n",
      " [-501.75006]], shape=(3, 1), dtype=float32)\n",
      "tf.Tensor(\n",
      "[[  704.58545]\n",
      " [-1741.7827 ]\n",
      " [-3001.75   ]], shape=(3, 1), dtype=float32)\n",
      "tf.Tensor(\n",
      "[[704.58545]\n",
      " [  0.     ]\n",
      " [  0.     ]], shape=(3, 1), dtype=float32)\n"
     ]
    }
   ],
   "source": [
    "# weights represents the msrp of the cars, a 4x1 tensor\n",
    "weights = tf.Variable([[19995.95], [24995.50],\n",
    "                       [36745.50], [29995.95]],\n",
    "                      tf.float32)\n",
    "# bias is a 3x1 representing the fixed costs associated with each salesperson\n",
    "bias = tf.Variable([[-2500.0], [-2500.0], [-2500.0]], tf.float32)\n",
    "# matrix multiply the input by the weight to show the average deviation from the msrp on all cars\n",
    "# also add the bias to subtract the fixed costs of each salesperson\n",
    "output = tf.matmul(input1,weights) + bias\n",
    "print(output)\n",
    "# or do these separately to see if they can get the same value\n",
    "op1 = tf.matmul(input1,weights)\n",
    "print(op1)\n",
    "op2 = op1 + bias\n",
    "print(op2)\n",
    "# so it is the same, while the second rep started positive, the -2500 bias turns them negative\n",
    "output = tf.keras.activations.relu(output)\n",
    "print(output)\n",
    "# relu activation zeros any negative values, so only positive remain (the first rep)"
   ],
   "metadata": {
    "collapsed": false,
    "ExecuteTime": {
     "start_time": "2023-04-22T13:32:33.621638Z",
     "end_time": "2023-04-22T13:32:33.670634Z"
    }
   }
  },
  {
   "cell_type": "markdown",
   "source": [],
   "metadata": {
    "collapsed": false
   }
  }
 ],
 "metadata": {
  "kernelspec": {
   "display_name": "Python 3",
   "language": "python",
   "name": "python3"
  },
  "language_info": {
   "codemirror_mode": {
    "name": "ipython",
    "version": 2
   },
   "file_extension": ".py",
   "mimetype": "text/x-python",
   "name": "python",
   "nbconvert_exporter": "python",
   "pygments_lexer": "ipython2",
   "version": "2.7.6"
  }
 },
 "nbformat": 4,
 "nbformat_minor": 0
}
